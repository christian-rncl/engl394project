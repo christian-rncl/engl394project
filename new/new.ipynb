{
 "cells": [
  {
   "cell_type": "markdown",
   "metadata": {},
   "source": [
    "# CMSC 394 survey data analysis NEW\n",
    "## Christian Roncal"
   ]
  },
  {
   "cell_type": "markdown",
   "metadata": {},
   "source": [
    "# Dependencies"
   ]
  },
  {
   "cell_type": "code",
   "execution_count": 53,
   "metadata": {},
   "outputs": [],
   "source": [
    "import pandas as pd\n",
    "import numpy as np"
   ]
  },
  {
   "cell_type": "markdown",
   "metadata": {},
   "source": [
    "# Load and clean up the data"
   ]
  },
  {
   "cell_type": "code",
   "execution_count": 54,
   "metadata": {},
   "outputs": [],
   "source": [
    "df = pd.read_csv('surveyresponses.csv')"
   ]
  },
  {
   "cell_type": "code",
   "execution_count": 55,
   "metadata": {},
   "outputs": [
    {
     "data": {
      "text/html": [
       "<div>\n",
       "<style scoped>\n",
       "    .dataframe tbody tr th:only-of-type {\n",
       "        vertical-align: middle;\n",
       "    }\n",
       "\n",
       "    .dataframe tbody tr th {\n",
       "        vertical-align: top;\n",
       "    }\n",
       "\n",
       "    .dataframe thead th {\n",
       "        text-align: right;\n",
       "    }\n",
       "</style>\n",
       "<table border=\"1\" class=\"dataframe\">\n",
       "  <thead>\n",
       "    <tr style=\"text-align: right;\">\n",
       "      <th></th>\n",
       "      <th>Timestamp</th>\n",
       "      <th>Did you graduate from a highschool under the Prince George's County Public Schools system?</th>\n",
       "      <th>What year do you expect to receive your bachelors (if in combined BS/MS programs when did you finish your undergrad requirements)?</th>\n",
       "      <th>What year did you graduate from high school?</th>\n",
       "      <th>How many summer semesters have you taken?</th>\n",
       "      <th>What was your high school GPA?</th>\n",
       "      <th>What is your first semester college GPA?</th>\n",
       "      <th>How many \"pre-requisite classes\" did you have to take? e.g. (Math115 - Precalculus to take Math140 - Calculus 1)</th>\n",
       "      <th>How many times have you switched majors?</th>\n",
       "      <th>Answer whether you agree/disagree with the following statements [I wasn't sure what I will do after high school]</th>\n",
       "      <th>Answer whether you agree/disagree with the following statements [I felt uninterested in my high school coursework]</th>\n",
       "      <th>Answer whether you agree/disagree with the following statements [My high school informed me about the military career path]</th>\n",
       "      <th>Answer whether you agree/disagree with the following statements [My high school informed me about vocational career paths]</th>\n",
       "      <th>Answer whether you agree/disagree with the following statements [My high school informed me about IT certifications]</th>\n",
       "    </tr>\n",
       "  </thead>\n",
       "  <tbody>\n",
       "    <tr>\n",
       "      <th>0</th>\n",
       "      <td>4/24/2019 23:28:18</td>\n",
       "      <td>Yes</td>\n",
       "      <td>Spring 2019</td>\n",
       "      <td>2015</td>\n",
       "      <td>3</td>\n",
       "      <td>3.500</td>\n",
       "      <td>3.800</td>\n",
       "      <td>3</td>\n",
       "      <td>0</td>\n",
       "      <td>Disagree</td>\n",
       "      <td>Agree</td>\n",
       "      <td>Disagree</td>\n",
       "      <td>Disagree</td>\n",
       "      <td>Disagree</td>\n",
       "    </tr>\n",
       "    <tr>\n",
       "      <th>1</th>\n",
       "      <td>4/24/2019 23:33:04</td>\n",
       "      <td>No</td>\n",
       "      <td>Spring 2020</td>\n",
       "      <td>2017</td>\n",
       "      <td>1</td>\n",
       "      <td>3.760</td>\n",
       "      <td>3.947</td>\n",
       "      <td>0</td>\n",
       "      <td>0</td>\n",
       "      <td>Agree</td>\n",
       "      <td>Agree</td>\n",
       "      <td>Disagree</td>\n",
       "      <td>Disagree</td>\n",
       "      <td>Disagree</td>\n",
       "    </tr>\n",
       "    <tr>\n",
       "      <th>2</th>\n",
       "      <td>4/24/2019 23:34:46</td>\n",
       "      <td>No</td>\n",
       "      <td>Spring 2020</td>\n",
       "      <td>2016</td>\n",
       "      <td>4</td>\n",
       "      <td>4.778</td>\n",
       "      <td>2.987</td>\n",
       "      <td>0</td>\n",
       "      <td>1</td>\n",
       "      <td>Agree</td>\n",
       "      <td>Agree</td>\n",
       "      <td>Agree</td>\n",
       "      <td>Agree</td>\n",
       "      <td>Agree</td>\n",
       "    </tr>\n",
       "    <tr>\n",
       "      <th>3</th>\n",
       "      <td>4/24/2019 23:35:23</td>\n",
       "      <td>No</td>\n",
       "      <td>Spring 2020</td>\n",
       "      <td>2015</td>\n",
       "      <td>0</td>\n",
       "      <td>3.700</td>\n",
       "      <td>3.900</td>\n",
       "      <td>3</td>\n",
       "      <td>0</td>\n",
       "      <td>Agree</td>\n",
       "      <td>Agree</td>\n",
       "      <td>Disagree</td>\n",
       "      <td>Agree</td>\n",
       "      <td>Agree</td>\n",
       "    </tr>\n",
       "    <tr>\n",
       "      <th>4</th>\n",
       "      <td>4/24/2019 23:37:05</td>\n",
       "      <td>No</td>\n",
       "      <td>Spring 2020</td>\n",
       "      <td>2016</td>\n",
       "      <td>0</td>\n",
       "      <td>3.750</td>\n",
       "      <td>3.750</td>\n",
       "      <td>2</td>\n",
       "      <td>1</td>\n",
       "      <td>Agree</td>\n",
       "      <td>Agree</td>\n",
       "      <td>Disagree</td>\n",
       "      <td>Agree</td>\n",
       "      <td>Disagree</td>\n",
       "    </tr>\n",
       "  </tbody>\n",
       "</table>\n",
       "</div>"
      ],
      "text/plain": [
       "            Timestamp  \\\n",
       "0  4/24/2019 23:28:18   \n",
       "1  4/24/2019 23:33:04   \n",
       "2  4/24/2019 23:34:46   \n",
       "3  4/24/2019 23:35:23   \n",
       "4  4/24/2019 23:37:05   \n",
       "\n",
       "  Did you graduate from a highschool under the Prince George's County Public Schools system?  \\\n",
       "0                                                Yes                                           \n",
       "1                                                 No                                           \n",
       "2                                                 No                                           \n",
       "3                                                 No                                           \n",
       "4                                                 No                                           \n",
       "\n",
       "  What year do you expect to receive your bachelors (if in combined BS/MS programs when did you finish your undergrad requirements)?  \\\n",
       "0                                        Spring 2019                                                                                   \n",
       "1                                        Spring 2020                                                                                   \n",
       "2                                        Spring 2020                                                                                   \n",
       "3                                        Spring 2020                                                                                   \n",
       "4                                        Spring 2020                                                                                   \n",
       "\n",
       "   What year did you graduate from high school?  \\\n",
       "0                                          2015   \n",
       "1                                          2017   \n",
       "2                                          2016   \n",
       "3                                          2015   \n",
       "4                                          2016   \n",
       "\n",
       "   How many summer semesters have you taken?  What was your high school GPA?  \\\n",
       "0                                          3                           3.500   \n",
       "1                                          1                           3.760   \n",
       "2                                          4                           4.778   \n",
       "3                                          0                           3.700   \n",
       "4                                          0                           3.750   \n",
       "\n",
       "   What is your first semester college GPA?  \\\n",
       "0                                     3.800   \n",
       "1                                     3.947   \n",
       "2                                     2.987   \n",
       "3                                     3.900   \n",
       "4                                     3.750   \n",
       "\n",
       "   How many \"pre-requisite classes\" did you have to take? e.g. (Math115 - Precalculus to take Math140 - Calculus 1)  \\\n",
       "0                                                  3                                                                  \n",
       "1                                                  0                                                                  \n",
       "2                                                  0                                                                  \n",
       "3                                                  3                                                                  \n",
       "4                                                  2                                                                  \n",
       "\n",
       "   How many times have you switched majors?  \\\n",
       "0                                         0   \n",
       "1                                         0   \n",
       "2                                         1   \n",
       "3                                         0   \n",
       "4                                         1   \n",
       "\n",
       "  Answer whether you agree/disagree with the following statements [I wasn't sure what I will do after high school]  \\\n",
       "0                                           Disagree                                                                 \n",
       "1                                              Agree                                                                 \n",
       "2                                              Agree                                                                 \n",
       "3                                              Agree                                                                 \n",
       "4                                              Agree                                                                 \n",
       "\n",
       "  Answer whether you agree/disagree with the following statements [I felt uninterested in my high school coursework]  \\\n",
       "0                                              Agree                                                                   \n",
       "1                                              Agree                                                                   \n",
       "2                                              Agree                                                                   \n",
       "3                                              Agree                                                                   \n",
       "4                                              Agree                                                                   \n",
       "\n",
       "  Answer whether you agree/disagree with the following statements [My high school informed me about the military career path]  \\\n",
       "0                                           Disagree                                                                            \n",
       "1                                           Disagree                                                                            \n",
       "2                                              Agree                                                                            \n",
       "3                                           Disagree                                                                            \n",
       "4                                           Disagree                                                                            \n",
       "\n",
       "  Answer whether you agree/disagree with the following statements [My high school informed me about vocational career paths]  \\\n",
       "0                                           Disagree                                                                           \n",
       "1                                           Disagree                                                                           \n",
       "2                                              Agree                                                                           \n",
       "3                                              Agree                                                                           \n",
       "4                                              Agree                                                                           \n",
       "\n",
       "  Answer whether you agree/disagree with the following statements [My high school informed me about IT certifications]  \n",
       "0                                           Disagree                                                                    \n",
       "1                                           Disagree                                                                    \n",
       "2                                              Agree                                                                    \n",
       "3                                              Agree                                                                    \n",
       "4                                           Disagree                                                                    "
      ]
     },
     "execution_count": 55,
     "metadata": {},
     "output_type": "execute_result"
    }
   ],
   "source": [
    "df.head()"
   ]
  },
  {
   "cell_type": "markdown",
   "metadata": {},
   "source": [
    "### Rename columns\n",
    "1. pg - graduated from pgcps 1/0 (yes/no)\n",
    "1. cgrad -college grad year semester\n",
    "1. hsgrad - hs grad year\n",
    "1. nsummer - number of summer semesters\n",
    "1. nremedial - number of \"prereq classes\"\n",
    "1. hsgpa - hs gpa\n",
    "1. cgpa - first semester college gpa\n",
    "1. nswitch - number of major switches\n",
    "1. unsure - unsure of college plans\n",
    "1. uninterested - unintersted in hs schoolwork\n",
    "1. mil - military path known\n",
    "1. voc - vocational path known\n",
    "1. it - it path known"
   ]
  },
  {
   "cell_type": "code",
   "execution_count": 56,
   "metadata": {},
   "outputs": [],
   "source": [
    "df.columns = ['timestamp', 'pg', 'cgrad', 'hsgrad', 'nsummer', 'hsgpa', 'cgpa', 'nremedial', 'nswitch', 'unsure', 'uninterested', 'mil', 'voc', 'it']"
   ]
  },
  {
   "cell_type": "code",
   "execution_count": 57,
   "metadata": {},
   "outputs": [
    {
     "data": {
      "text/html": [
       "<div>\n",
       "<style scoped>\n",
       "    .dataframe tbody tr th:only-of-type {\n",
       "        vertical-align: middle;\n",
       "    }\n",
       "\n",
       "    .dataframe tbody tr th {\n",
       "        vertical-align: top;\n",
       "    }\n",
       "\n",
       "    .dataframe thead th {\n",
       "        text-align: right;\n",
       "    }\n",
       "</style>\n",
       "<table border=\"1\" class=\"dataframe\">\n",
       "  <thead>\n",
       "    <tr style=\"text-align: right;\">\n",
       "      <th></th>\n",
       "      <th>pg</th>\n",
       "      <th>cgrad</th>\n",
       "      <th>hsgrad</th>\n",
       "      <th>nsummer</th>\n",
       "      <th>hsgpa</th>\n",
       "      <th>cgpa</th>\n",
       "      <th>nremedial</th>\n",
       "      <th>nswitch</th>\n",
       "      <th>unsure</th>\n",
       "      <th>uninterested</th>\n",
       "      <th>mil</th>\n",
       "      <th>voc</th>\n",
       "      <th>it</th>\n",
       "    </tr>\n",
       "  </thead>\n",
       "  <tbody>\n",
       "    <tr>\n",
       "      <th>0</th>\n",
       "      <td>Yes</td>\n",
       "      <td>Spring 2019</td>\n",
       "      <td>2015</td>\n",
       "      <td>3</td>\n",
       "      <td>3.500</td>\n",
       "      <td>3.800</td>\n",
       "      <td>3</td>\n",
       "      <td>0</td>\n",
       "      <td>Disagree</td>\n",
       "      <td>Agree</td>\n",
       "      <td>Disagree</td>\n",
       "      <td>Disagree</td>\n",
       "      <td>Disagree</td>\n",
       "    </tr>\n",
       "    <tr>\n",
       "      <th>1</th>\n",
       "      <td>No</td>\n",
       "      <td>Spring 2020</td>\n",
       "      <td>2017</td>\n",
       "      <td>1</td>\n",
       "      <td>3.760</td>\n",
       "      <td>3.947</td>\n",
       "      <td>0</td>\n",
       "      <td>0</td>\n",
       "      <td>Agree</td>\n",
       "      <td>Agree</td>\n",
       "      <td>Disagree</td>\n",
       "      <td>Disagree</td>\n",
       "      <td>Disagree</td>\n",
       "    </tr>\n",
       "    <tr>\n",
       "      <th>2</th>\n",
       "      <td>No</td>\n",
       "      <td>Spring 2020</td>\n",
       "      <td>2016</td>\n",
       "      <td>4</td>\n",
       "      <td>4.778</td>\n",
       "      <td>2.987</td>\n",
       "      <td>0</td>\n",
       "      <td>1</td>\n",
       "      <td>Agree</td>\n",
       "      <td>Agree</td>\n",
       "      <td>Agree</td>\n",
       "      <td>Agree</td>\n",
       "      <td>Agree</td>\n",
       "    </tr>\n",
       "    <tr>\n",
       "      <th>3</th>\n",
       "      <td>No</td>\n",
       "      <td>Spring 2020</td>\n",
       "      <td>2015</td>\n",
       "      <td>0</td>\n",
       "      <td>3.700</td>\n",
       "      <td>3.900</td>\n",
       "      <td>3</td>\n",
       "      <td>0</td>\n",
       "      <td>Agree</td>\n",
       "      <td>Agree</td>\n",
       "      <td>Disagree</td>\n",
       "      <td>Agree</td>\n",
       "      <td>Agree</td>\n",
       "    </tr>\n",
       "    <tr>\n",
       "      <th>4</th>\n",
       "      <td>No</td>\n",
       "      <td>Spring 2020</td>\n",
       "      <td>2016</td>\n",
       "      <td>0</td>\n",
       "      <td>3.750</td>\n",
       "      <td>3.750</td>\n",
       "      <td>2</td>\n",
       "      <td>1</td>\n",
       "      <td>Agree</td>\n",
       "      <td>Agree</td>\n",
       "      <td>Disagree</td>\n",
       "      <td>Agree</td>\n",
       "      <td>Disagree</td>\n",
       "    </tr>\n",
       "  </tbody>\n",
       "</table>\n",
       "</div>"
      ],
      "text/plain": [
       "    pg        cgrad  hsgrad  nsummer  hsgpa   cgpa  nremedial  nswitch  \\\n",
       "0  Yes  Spring 2019    2015        3  3.500  3.800          3        0   \n",
       "1   No  Spring 2020    2017        1  3.760  3.947          0        0   \n",
       "2   No  Spring 2020    2016        4  4.778  2.987          0        1   \n",
       "3   No  Spring 2020    2015        0  3.700  3.900          3        0   \n",
       "4   No  Spring 2020    2016        0  3.750  3.750          2        1   \n",
       "\n",
       "     unsure uninterested       mil       voc        it  \n",
       "0  Disagree        Agree  Disagree  Disagree  Disagree  \n",
       "1     Agree        Agree  Disagree  Disagree  Disagree  \n",
       "2     Agree        Agree     Agree     Agree     Agree  \n",
       "3     Agree        Agree  Disagree     Agree     Agree  \n",
       "4     Agree        Agree  Disagree     Agree  Disagree  "
      ]
     },
     "execution_count": 57,
     "metadata": {},
     "output_type": "execute_result"
    }
   ],
   "source": [
    "df = df.drop(columns='timestamp')\n",
    "df.head()"
   ]
  },
  {
   "cell_type": "markdown",
   "metadata": {},
   "source": [
    "### Fill in NaNs and numericalize"
   ]
  },
  {
   "cell_type": "code",
   "execution_count": 58,
   "metadata": {},
   "outputs": [],
   "source": [
    "df = df.fillna('') # replaces all NaNs with empty string"
   ]
  },
  {
   "cell_type": "markdown",
   "metadata": {},
   "source": [
    "### Numericalize\n",
    "\n",
    "It's easier to deal with numbers when computationally analyzing data so let's only deal with numbers"
   ]
  },
  {
   "cell_type": "code",
   "execution_count": 59,
   "metadata": {},
   "outputs": [],
   "source": [
    "agree_map = {'Yes': 1, 'No': 0, 'Agree':1, 'Disagree':0}\n",
    "def numericalize(x):\n",
    "    try:\n",
    "        return agree_map[x]\n",
    "    except:\n",
    "        print('errorrrr')\n",
    "        print(x)"
   ]
  },
  {
   "cell_type": "code",
   "execution_count": 60,
   "metadata": {},
   "outputs": [
    {
     "data": {
      "text/html": [
       "<div>\n",
       "<style scoped>\n",
       "    .dataframe tbody tr th:only-of-type {\n",
       "        vertical-align: middle;\n",
       "    }\n",
       "\n",
       "    .dataframe tbody tr th {\n",
       "        vertical-align: top;\n",
       "    }\n",
       "\n",
       "    .dataframe thead th {\n",
       "        text-align: right;\n",
       "    }\n",
       "</style>\n",
       "<table border=\"1\" class=\"dataframe\">\n",
       "  <thead>\n",
       "    <tr style=\"text-align: right;\">\n",
       "      <th></th>\n",
       "      <th>pg</th>\n",
       "      <th>unsure</th>\n",
       "      <th>uninterested</th>\n",
       "      <th>mil</th>\n",
       "      <th>voc</th>\n",
       "      <th>it</th>\n",
       "    </tr>\n",
       "  </thead>\n",
       "  <tbody>\n",
       "    <tr>\n",
       "      <th>0</th>\n",
       "      <td>Yes</td>\n",
       "      <td>Disagree</td>\n",
       "      <td>Agree</td>\n",
       "      <td>Disagree</td>\n",
       "      <td>Disagree</td>\n",
       "      <td>Disagree</td>\n",
       "    </tr>\n",
       "    <tr>\n",
       "      <th>1</th>\n",
       "      <td>No</td>\n",
       "      <td>Agree</td>\n",
       "      <td>Agree</td>\n",
       "      <td>Disagree</td>\n",
       "      <td>Disagree</td>\n",
       "      <td>Disagree</td>\n",
       "    </tr>\n",
       "    <tr>\n",
       "      <th>2</th>\n",
       "      <td>No</td>\n",
       "      <td>Agree</td>\n",
       "      <td>Agree</td>\n",
       "      <td>Agree</td>\n",
       "      <td>Agree</td>\n",
       "      <td>Agree</td>\n",
       "    </tr>\n",
       "    <tr>\n",
       "      <th>3</th>\n",
       "      <td>No</td>\n",
       "      <td>Agree</td>\n",
       "      <td>Agree</td>\n",
       "      <td>Disagree</td>\n",
       "      <td>Agree</td>\n",
       "      <td>Agree</td>\n",
       "    </tr>\n",
       "    <tr>\n",
       "      <th>4</th>\n",
       "      <td>No</td>\n",
       "      <td>Agree</td>\n",
       "      <td>Agree</td>\n",
       "      <td>Disagree</td>\n",
       "      <td>Agree</td>\n",
       "      <td>Disagree</td>\n",
       "    </tr>\n",
       "  </tbody>\n",
       "</table>\n",
       "</div>"
      ],
      "text/plain": [
       "    pg    unsure uninterested       mil       voc        it\n",
       "0  Yes  Disagree        Agree  Disagree  Disagree  Disagree\n",
       "1   No     Agree        Agree  Disagree  Disagree  Disagree\n",
       "2   No     Agree        Agree     Agree     Agree     Agree\n",
       "3   No     Agree        Agree  Disagree     Agree     Agree\n",
       "4   No     Agree        Agree  Disagree     Agree  Disagree"
      ]
     },
     "execution_count": 60,
     "metadata": {},
     "output_type": "execute_result"
    }
   ],
   "source": [
    "col_names = ['pg', 'unsure', 'uninterested', 'mil', 'voc', 'it']\n",
    "df[col_names].head()"
   ]
  },
  {
   "cell_type": "code",
   "execution_count": 61,
   "metadata": {},
   "outputs": [],
   "source": [
    "for col in col_names:\n",
    "    df[col] = df[col].apply(numericalize)"
   ]
  },
  {
   "cell_type": "code",
   "execution_count": 62,
   "metadata": {},
   "outputs": [
    {
     "data": {
      "text/html": [
       "<div>\n",
       "<style scoped>\n",
       "    .dataframe tbody tr th:only-of-type {\n",
       "        vertical-align: middle;\n",
       "    }\n",
       "\n",
       "    .dataframe tbody tr th {\n",
       "        vertical-align: top;\n",
       "    }\n",
       "\n",
       "    .dataframe thead th {\n",
       "        text-align: right;\n",
       "    }\n",
       "</style>\n",
       "<table border=\"1\" class=\"dataframe\">\n",
       "  <thead>\n",
       "    <tr style=\"text-align: right;\">\n",
       "      <th></th>\n",
       "      <th>pg</th>\n",
       "      <th>cgrad</th>\n",
       "      <th>hsgrad</th>\n",
       "      <th>nsummer</th>\n",
       "      <th>hsgpa</th>\n",
       "      <th>cgpa</th>\n",
       "      <th>nremedial</th>\n",
       "      <th>nswitch</th>\n",
       "      <th>unsure</th>\n",
       "      <th>uninterested</th>\n",
       "      <th>mil</th>\n",
       "      <th>voc</th>\n",
       "      <th>it</th>\n",
       "    </tr>\n",
       "  </thead>\n",
       "  <tbody>\n",
       "    <tr>\n",
       "      <th>0</th>\n",
       "      <td>1</td>\n",
       "      <td>Spring 2019</td>\n",
       "      <td>2015</td>\n",
       "      <td>3</td>\n",
       "      <td>3.500</td>\n",
       "      <td>3.800</td>\n",
       "      <td>3</td>\n",
       "      <td>0</td>\n",
       "      <td>0</td>\n",
       "      <td>1</td>\n",
       "      <td>0</td>\n",
       "      <td>0</td>\n",
       "      <td>0</td>\n",
       "    </tr>\n",
       "    <tr>\n",
       "      <th>1</th>\n",
       "      <td>0</td>\n",
       "      <td>Spring 2020</td>\n",
       "      <td>2017</td>\n",
       "      <td>1</td>\n",
       "      <td>3.760</td>\n",
       "      <td>3.947</td>\n",
       "      <td>0</td>\n",
       "      <td>0</td>\n",
       "      <td>1</td>\n",
       "      <td>1</td>\n",
       "      <td>0</td>\n",
       "      <td>0</td>\n",
       "      <td>0</td>\n",
       "    </tr>\n",
       "    <tr>\n",
       "      <th>2</th>\n",
       "      <td>0</td>\n",
       "      <td>Spring 2020</td>\n",
       "      <td>2016</td>\n",
       "      <td>4</td>\n",
       "      <td>4.778</td>\n",
       "      <td>2.987</td>\n",
       "      <td>0</td>\n",
       "      <td>1</td>\n",
       "      <td>1</td>\n",
       "      <td>1</td>\n",
       "      <td>1</td>\n",
       "      <td>1</td>\n",
       "      <td>1</td>\n",
       "    </tr>\n",
       "    <tr>\n",
       "      <th>3</th>\n",
       "      <td>0</td>\n",
       "      <td>Spring 2020</td>\n",
       "      <td>2015</td>\n",
       "      <td>0</td>\n",
       "      <td>3.700</td>\n",
       "      <td>3.900</td>\n",
       "      <td>3</td>\n",
       "      <td>0</td>\n",
       "      <td>1</td>\n",
       "      <td>1</td>\n",
       "      <td>0</td>\n",
       "      <td>1</td>\n",
       "      <td>1</td>\n",
       "    </tr>\n",
       "    <tr>\n",
       "      <th>4</th>\n",
       "      <td>0</td>\n",
       "      <td>Spring 2020</td>\n",
       "      <td>2016</td>\n",
       "      <td>0</td>\n",
       "      <td>3.750</td>\n",
       "      <td>3.750</td>\n",
       "      <td>2</td>\n",
       "      <td>1</td>\n",
       "      <td>1</td>\n",
       "      <td>1</td>\n",
       "      <td>0</td>\n",
       "      <td>1</td>\n",
       "      <td>0</td>\n",
       "    </tr>\n",
       "  </tbody>\n",
       "</table>\n",
       "</div>"
      ],
      "text/plain": [
       "   pg        cgrad  hsgrad  nsummer  hsgpa   cgpa  nremedial  nswitch  unsure  \\\n",
       "0   1  Spring 2019    2015        3  3.500  3.800          3        0       0   \n",
       "1   0  Spring 2020    2017        1  3.760  3.947          0        0       1   \n",
       "2   0  Spring 2020    2016        4  4.778  2.987          0        1       1   \n",
       "3   0  Spring 2020    2015        0  3.700  3.900          3        0       1   \n",
       "4   0  Spring 2020    2016        0  3.750  3.750          2        1       1   \n",
       "\n",
       "   uninterested  mil  voc  it  \n",
       "0             1    0    0   0  \n",
       "1             1    0    0   0  \n",
       "2             1    1    1   1  \n",
       "3             1    0    1   1  \n",
       "4             1    0    1   0  "
      ]
     },
     "execution_count": 62,
     "metadata": {},
     "output_type": "execute_result"
    }
   ],
   "source": [
    "df.head()"
   ]
  },
  {
   "cell_type": "markdown",
   "metadata": {},
   "source": [
    "### Creating new features"
   ]
  },
  {
   "cell_type": "markdown",
   "metadata": {},
   "source": [
    "nsems = (grad year - hs grad year)*2 + 1 (if fall) + nsummer"
   ]
  },
  {
   "cell_type": "code",
   "execution_count": 63,
   "metadata": {},
   "outputs": [],
   "source": [
    "def nsems(x):\n",
    "    szn, year = x['cgrad'].split()\n",
    "    year = int(year)\n",
    "    fallszn = False if szn == 'Spring' else True\n",
    "    \n",
    "    res = (year - x['hsgrad'])* 2 + x['nsummer']\n",
    "    res += 1 if fallszn else 0\n",
    "    return res"
   ]
  },
  {
   "cell_type": "code",
   "execution_count": 64,
   "metadata": {},
   "outputs": [],
   "source": [
    "df['nsems'] = df.apply(nsems, axis=1)"
   ]
  },
  {
   "cell_type": "code",
   "execution_count": 65,
   "metadata": {},
   "outputs": [
    {
     "data": {
      "text/html": [
       "<div>\n",
       "<style scoped>\n",
       "    .dataframe tbody tr th:only-of-type {\n",
       "        vertical-align: middle;\n",
       "    }\n",
       "\n",
       "    .dataframe tbody tr th {\n",
       "        vertical-align: top;\n",
       "    }\n",
       "\n",
       "    .dataframe thead th {\n",
       "        text-align: right;\n",
       "    }\n",
       "</style>\n",
       "<table border=\"1\" class=\"dataframe\">\n",
       "  <thead>\n",
       "    <tr style=\"text-align: right;\">\n",
       "      <th></th>\n",
       "      <th>pg</th>\n",
       "      <th>cgrad</th>\n",
       "      <th>hsgrad</th>\n",
       "      <th>nsummer</th>\n",
       "      <th>hsgpa</th>\n",
       "      <th>cgpa</th>\n",
       "      <th>nremedial</th>\n",
       "      <th>nswitch</th>\n",
       "      <th>unsure</th>\n",
       "      <th>uninterested</th>\n",
       "      <th>mil</th>\n",
       "      <th>voc</th>\n",
       "      <th>it</th>\n",
       "      <th>nsems</th>\n",
       "    </tr>\n",
       "  </thead>\n",
       "  <tbody>\n",
       "    <tr>\n",
       "      <th>0</th>\n",
       "      <td>1</td>\n",
       "      <td>Spring 2019</td>\n",
       "      <td>2015</td>\n",
       "      <td>3</td>\n",
       "      <td>3.500</td>\n",
       "      <td>3.800</td>\n",
       "      <td>3</td>\n",
       "      <td>0</td>\n",
       "      <td>0</td>\n",
       "      <td>1</td>\n",
       "      <td>0</td>\n",
       "      <td>0</td>\n",
       "      <td>0</td>\n",
       "      <td>11</td>\n",
       "    </tr>\n",
       "    <tr>\n",
       "      <th>1</th>\n",
       "      <td>0</td>\n",
       "      <td>Spring 2020</td>\n",
       "      <td>2017</td>\n",
       "      <td>1</td>\n",
       "      <td>3.760</td>\n",
       "      <td>3.947</td>\n",
       "      <td>0</td>\n",
       "      <td>0</td>\n",
       "      <td>1</td>\n",
       "      <td>1</td>\n",
       "      <td>0</td>\n",
       "      <td>0</td>\n",
       "      <td>0</td>\n",
       "      <td>7</td>\n",
       "    </tr>\n",
       "    <tr>\n",
       "      <th>2</th>\n",
       "      <td>0</td>\n",
       "      <td>Spring 2020</td>\n",
       "      <td>2016</td>\n",
       "      <td>4</td>\n",
       "      <td>4.778</td>\n",
       "      <td>2.987</td>\n",
       "      <td>0</td>\n",
       "      <td>1</td>\n",
       "      <td>1</td>\n",
       "      <td>1</td>\n",
       "      <td>1</td>\n",
       "      <td>1</td>\n",
       "      <td>1</td>\n",
       "      <td>12</td>\n",
       "    </tr>\n",
       "    <tr>\n",
       "      <th>3</th>\n",
       "      <td>0</td>\n",
       "      <td>Spring 2020</td>\n",
       "      <td>2015</td>\n",
       "      <td>0</td>\n",
       "      <td>3.700</td>\n",
       "      <td>3.900</td>\n",
       "      <td>3</td>\n",
       "      <td>0</td>\n",
       "      <td>1</td>\n",
       "      <td>1</td>\n",
       "      <td>0</td>\n",
       "      <td>1</td>\n",
       "      <td>1</td>\n",
       "      <td>10</td>\n",
       "    </tr>\n",
       "    <tr>\n",
       "      <th>4</th>\n",
       "      <td>0</td>\n",
       "      <td>Spring 2020</td>\n",
       "      <td>2016</td>\n",
       "      <td>0</td>\n",
       "      <td>3.750</td>\n",
       "      <td>3.750</td>\n",
       "      <td>2</td>\n",
       "      <td>1</td>\n",
       "      <td>1</td>\n",
       "      <td>1</td>\n",
       "      <td>0</td>\n",
       "      <td>1</td>\n",
       "      <td>0</td>\n",
       "      <td>8</td>\n",
       "    </tr>\n",
       "  </tbody>\n",
       "</table>\n",
       "</div>"
      ],
      "text/plain": [
       "   pg        cgrad  hsgrad  nsummer  hsgpa   cgpa  nremedial  nswitch  unsure  \\\n",
       "0   1  Spring 2019    2015        3  3.500  3.800          3        0       0   \n",
       "1   0  Spring 2020    2017        1  3.760  3.947          0        0       1   \n",
       "2   0  Spring 2020    2016        4  4.778  2.987          0        1       1   \n",
       "3   0  Spring 2020    2015        0  3.700  3.900          3        0       1   \n",
       "4   0  Spring 2020    2016        0  3.750  3.750          2        1       1   \n",
       "\n",
       "   uninterested  mil  voc  it  nsems  \n",
       "0             1    0    0   0     11  \n",
       "1             1    0    0   0      7  \n",
       "2             1    1    1   1     12  \n",
       "3             1    0    1   1     10  \n",
       "4             1    0    1   0      8  "
      ]
     },
     "execution_count": 65,
     "metadata": {},
     "output_type": "execute_result"
    }
   ],
   "source": [
    "df.head()"
   ]
  },
  {
   "cell_type": "markdown",
   "metadata": {},
   "source": [
    "alt score = \"degree of college alternative knowledge (ie number of alternative paths shown)\" $\\sum [\\text{unintersted, mil, voc}]$"
   ]
  },
  {
   "cell_type": "code",
   "execution_count": 66,
   "metadata": {},
   "outputs": [],
   "source": [
    "def altscore(x):\n",
    "    return x['mil'] + x['voc'] + x['it']"
   ]
  },
  {
   "cell_type": "code",
   "execution_count": 67,
   "metadata": {},
   "outputs": [],
   "source": [
    "df['altscore'] = df.apply(altscore, axis=1)"
   ]
  },
  {
   "cell_type": "code",
   "execution_count": 68,
   "metadata": {},
   "outputs": [
    {
     "data": {
      "text/html": [
       "<div>\n",
       "<style scoped>\n",
       "    .dataframe tbody tr th:only-of-type {\n",
       "        vertical-align: middle;\n",
       "    }\n",
       "\n",
       "    .dataframe tbody tr th {\n",
       "        vertical-align: top;\n",
       "    }\n",
       "\n",
       "    .dataframe thead th {\n",
       "        text-align: right;\n",
       "    }\n",
       "</style>\n",
       "<table border=\"1\" class=\"dataframe\">\n",
       "  <thead>\n",
       "    <tr style=\"text-align: right;\">\n",
       "      <th></th>\n",
       "      <th>pg</th>\n",
       "      <th>cgrad</th>\n",
       "      <th>hsgrad</th>\n",
       "      <th>nsummer</th>\n",
       "      <th>hsgpa</th>\n",
       "      <th>cgpa</th>\n",
       "      <th>nremedial</th>\n",
       "      <th>nswitch</th>\n",
       "      <th>unsure</th>\n",
       "      <th>uninterested</th>\n",
       "      <th>mil</th>\n",
       "      <th>voc</th>\n",
       "      <th>it</th>\n",
       "      <th>nsems</th>\n",
       "      <th>altscore</th>\n",
       "    </tr>\n",
       "  </thead>\n",
       "  <tbody>\n",
       "    <tr>\n",
       "      <th>0</th>\n",
       "      <td>1</td>\n",
       "      <td>Spring 2019</td>\n",
       "      <td>2015</td>\n",
       "      <td>3</td>\n",
       "      <td>3.500</td>\n",
       "      <td>3.800</td>\n",
       "      <td>3</td>\n",
       "      <td>0</td>\n",
       "      <td>0</td>\n",
       "      <td>1</td>\n",
       "      <td>0</td>\n",
       "      <td>0</td>\n",
       "      <td>0</td>\n",
       "      <td>11</td>\n",
       "      <td>0</td>\n",
       "    </tr>\n",
       "    <tr>\n",
       "      <th>1</th>\n",
       "      <td>0</td>\n",
       "      <td>Spring 2020</td>\n",
       "      <td>2017</td>\n",
       "      <td>1</td>\n",
       "      <td>3.760</td>\n",
       "      <td>3.947</td>\n",
       "      <td>0</td>\n",
       "      <td>0</td>\n",
       "      <td>1</td>\n",
       "      <td>1</td>\n",
       "      <td>0</td>\n",
       "      <td>0</td>\n",
       "      <td>0</td>\n",
       "      <td>7</td>\n",
       "      <td>0</td>\n",
       "    </tr>\n",
       "    <tr>\n",
       "      <th>2</th>\n",
       "      <td>0</td>\n",
       "      <td>Spring 2020</td>\n",
       "      <td>2016</td>\n",
       "      <td>4</td>\n",
       "      <td>4.778</td>\n",
       "      <td>2.987</td>\n",
       "      <td>0</td>\n",
       "      <td>1</td>\n",
       "      <td>1</td>\n",
       "      <td>1</td>\n",
       "      <td>1</td>\n",
       "      <td>1</td>\n",
       "      <td>1</td>\n",
       "      <td>12</td>\n",
       "      <td>3</td>\n",
       "    </tr>\n",
       "    <tr>\n",
       "      <th>3</th>\n",
       "      <td>0</td>\n",
       "      <td>Spring 2020</td>\n",
       "      <td>2015</td>\n",
       "      <td>0</td>\n",
       "      <td>3.700</td>\n",
       "      <td>3.900</td>\n",
       "      <td>3</td>\n",
       "      <td>0</td>\n",
       "      <td>1</td>\n",
       "      <td>1</td>\n",
       "      <td>0</td>\n",
       "      <td>1</td>\n",
       "      <td>1</td>\n",
       "      <td>10</td>\n",
       "      <td>2</td>\n",
       "    </tr>\n",
       "    <tr>\n",
       "      <th>4</th>\n",
       "      <td>0</td>\n",
       "      <td>Spring 2020</td>\n",
       "      <td>2016</td>\n",
       "      <td>0</td>\n",
       "      <td>3.750</td>\n",
       "      <td>3.750</td>\n",
       "      <td>2</td>\n",
       "      <td>1</td>\n",
       "      <td>1</td>\n",
       "      <td>1</td>\n",
       "      <td>0</td>\n",
       "      <td>1</td>\n",
       "      <td>0</td>\n",
       "      <td>8</td>\n",
       "      <td>1</td>\n",
       "    </tr>\n",
       "  </tbody>\n",
       "</table>\n",
       "</div>"
      ],
      "text/plain": [
       "   pg        cgrad  hsgrad  nsummer  hsgpa   cgpa  nremedial  nswitch  unsure  \\\n",
       "0   1  Spring 2019    2015        3  3.500  3.800          3        0       0   \n",
       "1   0  Spring 2020    2017        1  3.760  3.947          0        0       1   \n",
       "2   0  Spring 2020    2016        4  4.778  2.987          0        1       1   \n",
       "3   0  Spring 2020    2015        0  3.700  3.900          3        0       1   \n",
       "4   0  Spring 2020    2016        0  3.750  3.750          2        1       1   \n",
       "\n",
       "   uninterested  mil  voc  it  nsems  altscore  \n",
       "0             1    0    0   0     11         0  \n",
       "1             1    0    0   0      7         0  \n",
       "2             1    1    1   1     12         3  \n",
       "3             1    0    1   1     10         2  \n",
       "4             1    0    1   0      8         1  "
      ]
     },
     "execution_count": 68,
     "metadata": {},
     "output_type": "execute_result"
    }
   ],
   "source": [
    "df.head()"
   ]
  },
  {
   "cell_type": "code",
   "execution_count": 69,
   "metadata": {},
   "outputs": [],
   "source": [
    "df.to_csv('num_394.csv', index=False)"
   ]
  },
  {
   "cell_type": "code",
   "execution_count": 70,
   "metadata": {},
   "outputs": [
    {
     "data": {
      "text/plain": [
       "50"
      ]
     },
     "execution_count": 70,
     "metadata": {},
     "output_type": "execute_result"
    }
   ],
   "source": [
    "t = pd.read_csv('num_394.csv')\n",
    "len(t)"
   ]
  },
  {
   "cell_type": "code",
   "execution_count": 71,
   "metadata": {},
   "outputs": [
    {
     "data": {
      "text/html": [
       "<div>\n",
       "<style scoped>\n",
       "    .dataframe tbody tr th:only-of-type {\n",
       "        vertical-align: middle;\n",
       "    }\n",
       "\n",
       "    .dataframe tbody tr th {\n",
       "        vertical-align: top;\n",
       "    }\n",
       "\n",
       "    .dataframe thead th {\n",
       "        text-align: right;\n",
       "    }\n",
       "</style>\n",
       "<table border=\"1\" class=\"dataframe\">\n",
       "  <thead>\n",
       "    <tr style=\"text-align: right;\">\n",
       "      <th></th>\n",
       "      <th>pg</th>\n",
       "      <th>hsgpa</th>\n",
       "      <th>cgpa</th>\n",
       "      <th>nremedial</th>\n",
       "      <th>nswitch</th>\n",
       "      <th>unsure</th>\n",
       "      <th>uninterested</th>\n",
       "      <th>mil</th>\n",
       "      <th>voc</th>\n",
       "      <th>it</th>\n",
       "      <th>nsems</th>\n",
       "      <th>altscore</th>\n",
       "    </tr>\n",
       "  </thead>\n",
       "  <tbody>\n",
       "    <tr>\n",
       "      <th>0</th>\n",
       "      <td>1</td>\n",
       "      <td>3.500</td>\n",
       "      <td>3.800</td>\n",
       "      <td>3</td>\n",
       "      <td>0</td>\n",
       "      <td>0</td>\n",
       "      <td>1</td>\n",
       "      <td>0</td>\n",
       "      <td>0</td>\n",
       "      <td>0</td>\n",
       "      <td>11</td>\n",
       "      <td>0</td>\n",
       "    </tr>\n",
       "    <tr>\n",
       "      <th>1</th>\n",
       "      <td>0</td>\n",
       "      <td>3.760</td>\n",
       "      <td>3.947</td>\n",
       "      <td>0</td>\n",
       "      <td>0</td>\n",
       "      <td>1</td>\n",
       "      <td>1</td>\n",
       "      <td>0</td>\n",
       "      <td>0</td>\n",
       "      <td>0</td>\n",
       "      <td>7</td>\n",
       "      <td>0</td>\n",
       "    </tr>\n",
       "    <tr>\n",
       "      <th>2</th>\n",
       "      <td>0</td>\n",
       "      <td>4.778</td>\n",
       "      <td>2.987</td>\n",
       "      <td>0</td>\n",
       "      <td>1</td>\n",
       "      <td>1</td>\n",
       "      <td>1</td>\n",
       "      <td>1</td>\n",
       "      <td>1</td>\n",
       "      <td>1</td>\n",
       "      <td>12</td>\n",
       "      <td>3</td>\n",
       "    </tr>\n",
       "    <tr>\n",
       "      <th>3</th>\n",
       "      <td>0</td>\n",
       "      <td>3.700</td>\n",
       "      <td>3.900</td>\n",
       "      <td>3</td>\n",
       "      <td>0</td>\n",
       "      <td>1</td>\n",
       "      <td>1</td>\n",
       "      <td>0</td>\n",
       "      <td>1</td>\n",
       "      <td>1</td>\n",
       "      <td>10</td>\n",
       "      <td>2</td>\n",
       "    </tr>\n",
       "    <tr>\n",
       "      <th>4</th>\n",
       "      <td>0</td>\n",
       "      <td>3.750</td>\n",
       "      <td>3.750</td>\n",
       "      <td>2</td>\n",
       "      <td>1</td>\n",
       "      <td>1</td>\n",
       "      <td>1</td>\n",
       "      <td>0</td>\n",
       "      <td>1</td>\n",
       "      <td>0</td>\n",
       "      <td>8</td>\n",
       "      <td>1</td>\n",
       "    </tr>\n",
       "  </tbody>\n",
       "</table>\n",
       "</div>"
      ],
      "text/plain": [
       "   pg  hsgpa   cgpa  nremedial  nswitch  unsure  uninterested  mil  voc  it  \\\n",
       "0   1  3.500  3.800          3        0       0             1    0    0   0   \n",
       "1   0  3.760  3.947          0        0       1             1    0    0   0   \n",
       "2   0  4.778  2.987          0        1       1             1    1    1   1   \n",
       "3   0  3.700  3.900          3        0       1             1    0    1   1   \n",
       "4   0  3.750  3.750          2        1       1             1    0    1   0   \n",
       "\n",
       "   nsems  altscore  \n",
       "0     11         0  \n",
       "1      7         0  \n",
       "2     12         3  \n",
       "3     10         2  \n",
       "4      8         1  "
      ]
     },
     "execution_count": 71,
     "metadata": {},
     "output_type": "execute_result"
    }
   ],
   "source": [
    "df_clean = df.drop(columns=['cgrad', 'hsgrad', 'nsummer'])\n",
    "df_clean.head()"
   ]
  },
  {
   "cell_type": "code",
   "execution_count": 72,
   "metadata": {},
   "outputs": [],
   "source": [
    "df_clean.to_csv('394clean.csv', index=False)"
   ]
  },
  {
   "cell_type": "code",
   "execution_count": 73,
   "metadata": {},
   "outputs": [],
   "source": [
    "pg_df = df.loc[df['pg'] == 1]"
   ]
  },
  {
   "cell_type": "code",
   "execution_count": 74,
   "metadata": {},
   "outputs": [
    {
     "data": {
      "text/plain": [
       "19"
      ]
     },
     "execution_count": 74,
     "metadata": {},
     "output_type": "execute_result"
    }
   ],
   "source": [
    "len(pg_df.loc[pg_df['nswitch'] > 0])"
   ]
  },
  {
   "cell_type": "code",
   "execution_count": 75,
   "metadata": {},
   "outputs": [
    {
     "data": {
      "text/plain": [
       "25"
      ]
     },
     "execution_count": 75,
     "metadata": {},
     "output_type": "execute_result"
    }
   ],
   "source": [
    "len(pg_df)"
   ]
  },
  {
   "cell_type": "code",
   "execution_count": 76,
   "metadata": {},
   "outputs": [
    {
     "data": {
      "image/png": "[encoded data removed]",
      "text/plain": [
       "<Figure size 432x288 with 1 Axes>"
      ]
     },
     "metadata": {},
     "output_type": "display_data"
    }
   ],
   "source": [
    "nswitch_pg = pg_df['nswitch'].value_counts().plot.pie().get_figure()\n",
    "nswitch_pg.savefig('switchpgpie.png')"
   ]
  },
  {
   "cell_type": "code",
   "execution_count": 77,
   "metadata": {},
   "outputs": [
    {
     "data": {
      "image/png": "[encoded data removed]",
      "text/plain": [
       "<Figure size 432x288 with 1 Axes>"
      ]
     },
     "metadata": {},
     "output_type": "display_data"
    }
   ],
   "source": [
    "pgswitchpie = df.loc[df['nswitch'] > 0]['pg'].apply(lambda x: \"PGCPS graduate\" if x == 1 else \"other county\").value_counts().plot.pie().get_figure()"
   ]
  },
  {
   "cell_type": "code",
   "execution_count": 78,
   "metadata": {},
   "outputs": [],
   "source": [
    "pgswitchpie.savefig('pgvsothersswitches.png')"
   ]
  },
  {
   "cell_type": "code",
   "execution_count": 79,
   "metadata": {},
   "outputs": [
    {
     "data": {
      "image/png": "[encoded data removed]",
      "text/plain": [
       "<Figure size 432x288 with 1 Axes>"
      ]
     },
     "execution_count": 79,
     "metadata": {},
     "output_type": "execute_result"
    }
   ],
   "source": [
    "pgswitchpie"
   ]
  },
  {
   "cell_type": "code",
   "execution_count": 80,
   "metadata": {},
   "outputs": [
    {
     "data": {
      "text/plain": [
       "0.6333333333333333"
      ]
     },
     "execution_count": 80,
     "metadata": {},
     "output_type": "execute_result"
    }
   ],
   "source": [
    "19/30"
   ]
  },
  {
   "cell_type": "code",
   "execution_count": null,
   "metadata": {},
   "outputs": [],
   "source": []
  },
  {
   "cell_type": "markdown",
   "metadata": {},
   "source": [
    "Want: bar graph comparing average number of semesters\n",
    "\n",
    "yes/no for switching majors, remedial classes, unsure"
   ]
  },
  {
   "cell_type": "code",
   "execution_count": 81,
   "metadata": {},
   "outputs": [],
   "source": [
    "df = df_clean[['unsure', 'nremedial', 'nswitch', 'altscore', 'nsems', 'cgpa']]"
   ]
  },
  {
   "cell_type": "code",
   "execution_count": 82,
   "metadata": {},
   "outputs": [
    {
     "data": {
      "text/html": [
       "<div>\n",
       "<style scoped>\n",
       "    .dataframe tbody tr th:only-of-type {\n",
       "        vertical-align: middle;\n",
       "    }\n",
       "\n",
       "    .dataframe tbody tr th {\n",
       "        vertical-align: top;\n",
       "    }\n",
       "\n",
       "    .dataframe thead th {\n",
       "        text-align: right;\n",
       "    }\n",
       "</style>\n",
       "<table border=\"1\" class=\"dataframe\">\n",
       "  <thead>\n",
       "    <tr style=\"text-align: right;\">\n",
       "      <th></th>\n",
       "      <th>unsure</th>\n",
       "      <th>nremedial</th>\n",
       "      <th>nswitch</th>\n",
       "      <th>altscore</th>\n",
       "      <th>nsems</th>\n",
       "      <th>cgpa</th>\n",
       "    </tr>\n",
       "  </thead>\n",
       "  <tbody>\n",
       "    <tr>\n",
       "      <th>0</th>\n",
       "      <td>0</td>\n",
       "      <td>3</td>\n",
       "      <td>0</td>\n",
       "      <td>0</td>\n",
       "      <td>11</td>\n",
       "      <td>3.800</td>\n",
       "    </tr>\n",
       "    <tr>\n",
       "      <th>1</th>\n",
       "      <td>1</td>\n",
       "      <td>0</td>\n",
       "      <td>0</td>\n",
       "      <td>0</td>\n",
       "      <td>7</td>\n",
       "      <td>3.947</td>\n",
       "    </tr>\n",
       "    <tr>\n",
       "      <th>2</th>\n",
       "      <td>1</td>\n",
       "      <td>0</td>\n",
       "      <td>1</td>\n",
       "      <td>3</td>\n",
       "      <td>12</td>\n",
       "      <td>2.987</td>\n",
       "    </tr>\n",
       "    <tr>\n",
       "      <th>3</th>\n",
       "      <td>1</td>\n",
       "      <td>3</td>\n",
       "      <td>0</td>\n",
       "      <td>2</td>\n",
       "      <td>10</td>\n",
       "      <td>3.900</td>\n",
       "    </tr>\n",
       "    <tr>\n",
       "      <th>4</th>\n",
       "      <td>1</td>\n",
       "      <td>2</td>\n",
       "      <td>1</td>\n",
       "      <td>1</td>\n",
       "      <td>8</td>\n",
       "      <td>3.750</td>\n",
       "    </tr>\n",
       "  </tbody>\n",
       "</table>\n",
       "</div>"
      ],
      "text/plain": [
       "   unsure  nremedial  nswitch  altscore  nsems   cgpa\n",
       "0       0          3        0         0     11  3.800\n",
       "1       1          0        0         0      7  3.947\n",
       "2       1          0        1         3     12  2.987\n",
       "3       1          3        0         2     10  3.900\n",
       "4       1          2        1         1      8  3.750"
      ]
     },
     "execution_count": 82,
     "metadata": {},
     "output_type": "execute_result"
    }
   ],
   "source": [
    "df.head()"
   ]
  },
  {
   "cell_type": "code",
   "execution_count": 83,
   "metadata": {},
   "outputs": [
    {
     "data": {
      "text/plain": [
       "11.833333333333334"
      ]
     },
     "execution_count": 83,
     "metadata": {},
     "output_type": "execute_result"
    }
   ],
   "source": [
    "nsems_unsure1 = df.loc[df['unsure'] == 1]['nsems'].mean()\n",
    "nsems_unsure1"
   ]
  },
  {
   "cell_type": "code",
   "execution_count": 84,
   "metadata": {},
   "outputs": [
    {
     "data": {
      "text/plain": [
       "8.5"
      ]
     },
     "execution_count": 84,
     "metadata": {},
     "output_type": "execute_result"
    }
   ],
   "source": [
    "nsems_unsure0 = df.loc[df['unsure'] == 0]['nsems'].mean()\n",
    "nsems_unsure0"
   ]
  },
  {
   "cell_type": "code",
   "execution_count": 85,
   "metadata": {},
   "outputs": [],
   "source": [
    "def addtodict(d, c, yn):\n",
    "    d['class'].append(c)\n",
    "    d['yesno'].append('yes' if yn == 1 else 'no')\n",
    "    d['avgsems'].append(df.loc[df[col] == yn]['nsems'].mean())"
   ]
  },
  {
   "cell_type": "code",
   "execution_count": 86,
   "metadata": {},
   "outputs": [],
   "source": [
    "\n",
    "dfprime = {'class': [], 'yesno':[], 'avgsems':[]}\n",
    "for col in ['unsure', 'nremedial', 'nswitch']:\n",
    "    addtodict(dfprime, col, 0)\n",
    "    addtodict(dfprime, col, 1)"
   ]
  },
  {
   "cell_type": "code",
   "execution_count": 87,
   "metadata": {},
   "outputs": [
    {
     "data": {
      "text/plain": [
       "{'class': ['unsure', 'unsure', 'nremedial', 'nremedial', 'nswitch', 'nswitch'],\n",
       " 'yesno': ['no', 'yes', 'no', 'yes', 'no', 'yes'],\n",
       " 'avgsems': [8.5, 11.833333333333334, 8.5, 10.833333333333334, 9.95, 10.7]}"
      ]
     },
     "execution_count": 87,
     "metadata": {},
     "output_type": "execute_result"
    }
   ],
   "source": [
    "dfprime"
   ]
  },
  {
   "cell_type": "code",
   "execution_count": 88,
   "metadata": {},
   "outputs": [],
   "source": [
    "dfviz = pd.DataFrame({'yesno':dfprime['yesno'], 'avgsems': dfprime['avgsems']}, index=dfprime['class'])"
   ]
  },
  {
   "cell_type": "code",
   "execution_count": 89,
   "metadata": {},
   "outputs": [
    {
     "data": {
      "text/html": [
       "<div>\n",
       "<style scoped>\n",
       "    .dataframe tbody tr th:only-of-type {\n",
       "        vertical-align: middle;\n",
       "    }\n",
       "\n",
       "    .dataframe tbody tr th {\n",
       "        vertical-align: top;\n",
       "    }\n",
       "\n",
       "    .dataframe thead th {\n",
       "        text-align: right;\n",
       "    }\n",
       "</style>\n",
       "<table border=\"1\" class=\"dataframe\">\n",
       "  <thead>\n",
       "    <tr style=\"text-align: right;\">\n",
       "      <th></th>\n",
       "      <th>yesno</th>\n",
       "      <th>avgsems</th>\n",
       "    </tr>\n",
       "  </thead>\n",
       "  <tbody>\n",
       "    <tr>\n",
       "      <th>unsure</th>\n",
       "      <td>no</td>\n",
       "      <td>8.500000</td>\n",
       "    </tr>\n",
       "    <tr>\n",
       "      <th>unsure</th>\n",
       "      <td>yes</td>\n",
       "      <td>11.833333</td>\n",
       "    </tr>\n",
       "    <tr>\n",
       "      <th>nremedial</th>\n",
       "      <td>no</td>\n",
       "      <td>8.500000</td>\n",
       "    </tr>\n",
       "    <tr>\n",
       "      <th>nremedial</th>\n",
       "      <td>yes</td>\n",
       "      <td>10.833333</td>\n",
       "    </tr>\n",
       "    <tr>\n",
       "      <th>nswitch</th>\n",
       "      <td>no</td>\n",
       "      <td>9.950000</td>\n",
       "    </tr>\n",
       "  </tbody>\n",
       "</table>\n",
       "</div>"
      ],
      "text/plain": [
       "          yesno    avgsems\n",
       "unsure       no   8.500000\n",
       "unsure      yes  11.833333\n",
       "nremedial    no   8.500000\n",
       "nremedial   yes  10.833333\n",
       "nswitch      no   9.950000"
      ]
     },
     "execution_count": 89,
     "metadata": {},
     "output_type": "execute_result"
    }
   ],
   "source": [
    "dfviz.head()"
   ]
  },
  {
   "cell_type": "code",
   "execution_count": 90,
   "metadata": {},
   "outputs": [],
   "source": [
    "import seaborn as sns\n",
    "import matplotlib.pyplot as plt"
   ]
  },
  {
   "cell_type": "code",
   "execution_count": 91,
   "metadata": {},
   "outputs": [
    {
     "data": {
      "image/png": "[encoded data removed]",
      "text/plain": [
       "<Figure size 432x288 with 1 Axes>"
      ]
     },
     "metadata": {
      "needs_background": "light"
     },
     "output_type": "display_data"
    }
   ],
   "source": [
    "ax = sns.barplot(x=dfviz.index, y=dfviz.avgsems, hue=dfviz.yesno)"
   ]
  },
  {
   "cell_type": "code",
   "execution_count": 47,
   "metadata": {},
   "outputs": [],
   "source": [
    "ax.get_figure().savefig('unsurebplot.png')"
   ]
  },
  {
   "cell_type": "code",
   "execution_count": null,
   "metadata": {},
   "outputs": [],
   "source": []
  }
 ],
 "metadata": {
  "kernelspec": {
   "display_name": "Python deeplearning",
   "language": "python",
   "name": "myenv"
  },
  "language_info": {
   "codemirror_mode": {
    "name": "ipython",
    "version": 3
   },
   "file_extension": ".py",
   "mimetype": "text/x-python",
   "name": "python",
   "nbconvert_exporter": "python",
   "pygments_lexer": "ipython3",
   "version": "3.6.8"
  }
 },
 "nbformat": 4,
 "nbformat_minor": 2
}
