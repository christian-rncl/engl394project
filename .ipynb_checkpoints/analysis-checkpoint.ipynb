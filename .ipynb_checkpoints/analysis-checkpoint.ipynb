{
 "cells": [
  {
   "cell_type": "markdown",
   "metadata": {},
   "source": [
    "# CMSC 394 survey data analysis -- Dr. Oliver\n",
    "## Christian Roncal"
   ]
  },
  {
   "cell_type": "markdown",
   "metadata": {},
   "source": [
    "# Dependencies"
   ]
  },
  {
   "cell_type": "code",
   "execution_count": 1,
   "metadata": {},
   "outputs": [],
   "source": [
    "import pandas as pd\n",
    "import numpy as np"
   ]
  },
  {
   "cell_type": "markdown",
   "metadata": {},
   "source": [
    "# Load and clean up the data"
   ]
  },
  {
   "cell_type": "code",
   "execution_count": 2,
   "metadata": {},
   "outputs": [],
   "source": [
    "df = pd.read_csv('394.csv')"
   ]
  },
  {
   "cell_type": "code",
   "execution_count": 3,
   "metadata": {},
   "outputs": [
    {
     "data": {
      "text/html": [
       "<div>\n",
       "<style scoped>\n",
       "    .dataframe tbody tr th:only-of-type {\n",
       "        vertical-align: middle;\n",
       "    }\n",
       "\n",
       "    .dataframe tbody tr th {\n",
       "        vertical-align: top;\n",
       "    }\n",
       "\n",
       "    .dataframe thead th {\n",
       "        text-align: right;\n",
       "    }\n",
       "</style>\n",
       "<table border=\"1\" class=\"dataframe\">\n",
       "  <thead>\n",
       "    <tr style=\"text-align: right;\">\n",
       "      <th></th>\n",
       "      <th>Did you go to a school under the Montgomery County Public Schools system?</th>\n",
       "      <th>What was your high school GPA?</th>\n",
       "      <th>What is your first semester college GPA?</th>\n",
       "      <th>How many remedial classes did you take? (classes that did not yield college credits)</th>\n",
       "      <th>How many times have you switched majors?</th>\n",
       "      <th>Answer whether you agree/disagree with the following statements [My high school showed me alternatives to college.]</th>\n",
       "      <th>Answer whether you agree/disagree with the following statements [I wasn't sure what I will do after high school]</th>\n",
       "      <th>Answer whether you agree/disagree with the following statements [I felt uninterested in my high school coursework]</th>\n",
       "      <th>If you agree/strongly agreed to the statement \"My high school showed me alternatives to college.\" What alternatives were you offered?</th>\n",
       "      <th>Answer whether you agree/disagree with the following statements [I had to work hard to adjust to college level ]</th>\n",
       "      <th>Answer whether you agree/disagree with the following statements [I felt stressed because of my coursework during my freshman year]</th>\n",
       "      <th>Answer whether you agree/disagree with the following statements [I had to seek mental health help during my freshman year of college]</th>\n",
       "    </tr>\n",
       "  </thead>\n",
       "  <tbody>\n",
       "    <tr>\n",
       "      <th>0</th>\n",
       "      <td>No</td>\n",
       "      <td>4.778</td>\n",
       "      <td>2.908</td>\n",
       "      <td>0</td>\n",
       "      <td>1</td>\n",
       "      <td>Disagree</td>\n",
       "      <td>Strongly disagree</td>\n",
       "      <td>Neutral</td>\n",
       "      <td>NaN</td>\n",
       "      <td>Strongly Agree</td>\n",
       "      <td>Strongly Agree</td>\n",
       "      <td>Agree</td>\n",
       "    </tr>\n",
       "    <tr>\n",
       "      <th>1</th>\n",
       "      <td>No</td>\n",
       "      <td>4.540</td>\n",
       "      <td>3.870</td>\n",
       "      <td>0</td>\n",
       "      <td>1</td>\n",
       "      <td>Strongly disagree</td>\n",
       "      <td>Neutral</td>\n",
       "      <td>Disagree</td>\n",
       "      <td>NaN</td>\n",
       "      <td>Neutral</td>\n",
       "      <td>Agree</td>\n",
       "      <td>Disagree</td>\n",
       "    </tr>\n",
       "    <tr>\n",
       "      <th>2</th>\n",
       "      <td>No</td>\n",
       "      <td>4.200</td>\n",
       "      <td>3.200</td>\n",
       "      <td>0</td>\n",
       "      <td>1</td>\n",
       "      <td>Disagree</td>\n",
       "      <td>Strongly disagree</td>\n",
       "      <td>Neutral</td>\n",
       "      <td>NaN</td>\n",
       "      <td>Disagree</td>\n",
       "      <td>Disagree</td>\n",
       "      <td>Strongly disagree</td>\n",
       "    </tr>\n",
       "    <tr>\n",
       "      <th>3</th>\n",
       "      <td>No</td>\n",
       "      <td>3.700</td>\n",
       "      <td>2.800</td>\n",
       "      <td>0</td>\n",
       "      <td>1</td>\n",
       "      <td>Neutral</td>\n",
       "      <td>Disagree</td>\n",
       "      <td>Agree</td>\n",
       "      <td>Vocational</td>\n",
       "      <td>Disagree</td>\n",
       "      <td>Disagree</td>\n",
       "      <td>Disagree</td>\n",
       "    </tr>\n",
       "    <tr>\n",
       "      <th>4</th>\n",
       "      <td>Yes</td>\n",
       "      <td>3.300</td>\n",
       "      <td>3.000</td>\n",
       "      <td>1</td>\n",
       "      <td>0</td>\n",
       "      <td>Neutral</td>\n",
       "      <td>Strongly agree</td>\n",
       "      <td>Agree</td>\n",
       "      <td>NaN</td>\n",
       "      <td>Agree</td>\n",
       "      <td>Agree</td>\n",
       "      <td>Disagree</td>\n",
       "    </tr>\n",
       "  </tbody>\n",
       "</table>\n",
       "</div>"
      ],
      "text/plain": [
       "  Did you go to a school under the Montgomery County Public Schools system?  \\\n",
       "0                                                 No                          \n",
       "1                                                 No                          \n",
       "2                                                 No                          \n",
       "3                                                 No                          \n",
       "4                                                Yes                          \n",
       "\n",
       "   What was your high school GPA?  What is your first semester college GPA?  \\\n",
       "0                           4.778                                     2.908   \n",
       "1                           4.540                                     3.870   \n",
       "2                           4.200                                     3.200   \n",
       "3                           3.700                                     2.800   \n",
       "4                           3.300                                     3.000   \n",
       "\n",
       "   How many remedial classes did you take? (classes that did not yield college credits)  \\\n",
       "0                                                  0                                      \n",
       "1                                                  0                                      \n",
       "2                                                  0                                      \n",
       "3                                                  0                                      \n",
       "4                                                  1                                      \n",
       "\n",
       "  How many times have you switched majors?  \\\n",
       "0                                        1   \n",
       "1                                        1   \n",
       "2                                        1   \n",
       "3                                        1   \n",
       "4                                        0   \n",
       "\n",
       "  Answer whether you agree/disagree with the following statements [My high school showed me alternatives to college.]  \\\n",
       "0                                           Disagree                                                                    \n",
       "1                                  Strongly disagree                                                                    \n",
       "2                                           Disagree                                                                    \n",
       "3                                            Neutral                                                                    \n",
       "4                                            Neutral                                                                    \n",
       "\n",
       "  Answer whether you agree/disagree with the following statements [I wasn't sure what I will do after high school]  \\\n",
       "0                                  Strongly disagree                                                                 \n",
       "1                                            Neutral                                                                 \n",
       "2                                  Strongly disagree                                                                 \n",
       "3                                           Disagree                                                                 \n",
       "4                                     Strongly agree                                                                 \n",
       "\n",
       "  Answer whether you agree/disagree with the following statements [I felt uninterested in my high school coursework]  \\\n",
       "0                                            Neutral                                                                   \n",
       "1                                           Disagree                                                                   \n",
       "2                                            Neutral                                                                   \n",
       "3                                              Agree                                                                   \n",
       "4                                              Agree                                                                   \n",
       "\n",
       "  If you agree/strongly agreed to the statement \"My high school showed me alternatives to college.\" What alternatives were you offered?  \\\n",
       "0                                                NaN                                                                                      \n",
       "1                                                NaN                                                                                      \n",
       "2                                                NaN                                                                                      \n",
       "3                                         Vocational                                                                                      \n",
       "4                                                NaN                                                                                      \n",
       "\n",
       "  Answer whether you agree/disagree with the following statements [I had to work hard to adjust to college level ]  \\\n",
       "0                                     Strongly Agree                                                                 \n",
       "1                                            Neutral                                                                 \n",
       "2                                           Disagree                                                                 \n",
       "3                                           Disagree                                                                 \n",
       "4                                              Agree                                                                 \n",
       "\n",
       "  Answer whether you agree/disagree with the following statements [I felt stressed because of my coursework during my freshman year]  \\\n",
       "0                                     Strongly Agree                                                                                   \n",
       "1                                              Agree                                                                                   \n",
       "2                                           Disagree                                                                                   \n",
       "3                                           Disagree                                                                                   \n",
       "4                                              Agree                                                                                   \n",
       "\n",
       "  Answer whether you agree/disagree with the following statements [I had to seek mental health help during my freshman year of college]  \n",
       "0                                              Agree                                                                                     \n",
       "1                                           Disagree                                                                                     \n",
       "2                                  Strongly disagree                                                                                     \n",
       "3                                           Disagree                                                                                     \n",
       "4                                           Disagree                                                                                     "
      ]
     },
     "execution_count": 3,
     "metadata": {},
     "output_type": "execute_result"
    }
   ],
   "source": [
    "df.head()"
   ]
  },
  {
   "cell_type": "markdown",
   "metadata": {},
   "source": [
    "### Rename columns\n",
    "1. alt0 - My high school showed me alternatives to college.\n",
    "1. alt1 - I wasn't sure what I will do after high school\n",
    "1. alt2 - I felt uninterested in my high school coursework\n",
    "1. alt3 - alternatives offered\n",
    "1. stress0 - I had to work hard to adjust to college level\n",
    "1. stress1 - I felt stressed because of my coursework during my freshman year\n",
    "1. stress2 - I had to seek mental health help during my freshman year of college (because of coursework)"
   ]
  },
  {
   "cell_type": "code",
   "execution_count": 4,
   "metadata": {},
   "outputs": [],
   "source": [
    "df.columns = ['mcps', 'hsgpa', 'collegegpa', 'n_remedial', 'n_switch', 'alt0', 'alt1', 'alt2', 'alt3', 'stress0', 'stress1', \n",
    "             'stress2']"
   ]
  },
  {
   "cell_type": "code",
   "execution_count": 5,
   "metadata": {},
   "outputs": [
    {
     "data": {
      "text/html": [
       "<div>\n",
       "<style scoped>\n",
       "    .dataframe tbody tr th:only-of-type {\n",
       "        vertical-align: middle;\n",
       "    }\n",
       "\n",
       "    .dataframe tbody tr th {\n",
       "        vertical-align: top;\n",
       "    }\n",
       "\n",
       "    .dataframe thead th {\n",
       "        text-align: right;\n",
       "    }\n",
       "</style>\n",
       "<table border=\"1\" class=\"dataframe\">\n",
       "  <thead>\n",
       "    <tr style=\"text-align: right;\">\n",
       "      <th></th>\n",
       "      <th>mcps</th>\n",
       "      <th>hsgpa</th>\n",
       "      <th>collegegpa</th>\n",
       "      <th>n_remedial</th>\n",
       "      <th>n_switch</th>\n",
       "      <th>alt0</th>\n",
       "      <th>alt1</th>\n",
       "      <th>alt2</th>\n",
       "      <th>alt3</th>\n",
       "      <th>stress0</th>\n",
       "      <th>stress1</th>\n",
       "      <th>stress2</th>\n",
       "    </tr>\n",
       "  </thead>\n",
       "  <tbody>\n",
       "    <tr>\n",
       "      <th>0</th>\n",
       "      <td>No</td>\n",
       "      <td>4.778</td>\n",
       "      <td>2.908</td>\n",
       "      <td>0</td>\n",
       "      <td>1</td>\n",
       "      <td>Disagree</td>\n",
       "      <td>Strongly disagree</td>\n",
       "      <td>Neutral</td>\n",
       "      <td>NaN</td>\n",
       "      <td>Strongly Agree</td>\n",
       "      <td>Strongly Agree</td>\n",
       "      <td>Agree</td>\n",
       "    </tr>\n",
       "    <tr>\n",
       "      <th>1</th>\n",
       "      <td>No</td>\n",
       "      <td>4.540</td>\n",
       "      <td>3.870</td>\n",
       "      <td>0</td>\n",
       "      <td>1</td>\n",
       "      <td>Strongly disagree</td>\n",
       "      <td>Neutral</td>\n",
       "      <td>Disagree</td>\n",
       "      <td>NaN</td>\n",
       "      <td>Neutral</td>\n",
       "      <td>Agree</td>\n",
       "      <td>Disagree</td>\n",
       "    </tr>\n",
       "    <tr>\n",
       "      <th>2</th>\n",
       "      <td>No</td>\n",
       "      <td>4.200</td>\n",
       "      <td>3.200</td>\n",
       "      <td>0</td>\n",
       "      <td>1</td>\n",
       "      <td>Disagree</td>\n",
       "      <td>Strongly disagree</td>\n",
       "      <td>Neutral</td>\n",
       "      <td>NaN</td>\n",
       "      <td>Disagree</td>\n",
       "      <td>Disagree</td>\n",
       "      <td>Strongly disagree</td>\n",
       "    </tr>\n",
       "    <tr>\n",
       "      <th>3</th>\n",
       "      <td>No</td>\n",
       "      <td>3.700</td>\n",
       "      <td>2.800</td>\n",
       "      <td>0</td>\n",
       "      <td>1</td>\n",
       "      <td>Neutral</td>\n",
       "      <td>Disagree</td>\n",
       "      <td>Agree</td>\n",
       "      <td>Vocational</td>\n",
       "      <td>Disagree</td>\n",
       "      <td>Disagree</td>\n",
       "      <td>Disagree</td>\n",
       "    </tr>\n",
       "    <tr>\n",
       "      <th>4</th>\n",
       "      <td>Yes</td>\n",
       "      <td>3.300</td>\n",
       "      <td>3.000</td>\n",
       "      <td>1</td>\n",
       "      <td>0</td>\n",
       "      <td>Neutral</td>\n",
       "      <td>Strongly agree</td>\n",
       "      <td>Agree</td>\n",
       "      <td>NaN</td>\n",
       "      <td>Agree</td>\n",
       "      <td>Agree</td>\n",
       "      <td>Disagree</td>\n",
       "    </tr>\n",
       "  </tbody>\n",
       "</table>\n",
       "</div>"
      ],
      "text/plain": [
       "  mcps  hsgpa  collegegpa  n_remedial n_switch               alt0  \\\n",
       "0   No  4.778       2.908           0        1           Disagree   \n",
       "1   No  4.540       3.870           0        1  Strongly disagree   \n",
       "2   No  4.200       3.200           0        1           Disagree   \n",
       "3   No  3.700       2.800           0        1            Neutral   \n",
       "4  Yes  3.300       3.000           1        0            Neutral   \n",
       "\n",
       "                alt1      alt2        alt3         stress0         stress1  \\\n",
       "0  Strongly disagree   Neutral         NaN  Strongly Agree  Strongly Agree   \n",
       "1            Neutral  Disagree         NaN         Neutral           Agree   \n",
       "2  Strongly disagree   Neutral         NaN        Disagree        Disagree   \n",
       "3           Disagree     Agree  Vocational        Disagree        Disagree   \n",
       "4     Strongly agree     Agree         NaN           Agree           Agree   \n",
       "\n",
       "             stress2  \n",
       "0              Agree  \n",
       "1           Disagree  \n",
       "2  Strongly disagree  \n",
       "3           Disagree  \n",
       "4           Disagree  "
      ]
     },
     "execution_count": 5,
     "metadata": {},
     "output_type": "execute_result"
    }
   ],
   "source": [
    "df.head()"
   ]
  },
  {
   "cell_type": "code",
   "execution_count": 6,
   "metadata": {},
   "outputs": [
    {
     "data": {
      "text/plain": [
       "mcps           object\n",
       "hsgpa         float64\n",
       "collegegpa    float64\n",
       "n_remedial      int64\n",
       "n_switch       object\n",
       "alt0           object\n",
       "alt1           object\n",
       "alt2           object\n",
       "alt3           object\n",
       "stress0        object\n",
       "stress1        object\n",
       "stress2        object\n",
       "dtype: object"
      ]
     },
     "execution_count": 6,
     "metadata": {},
     "output_type": "execute_result"
    }
   ],
   "source": [
    "df.dtypes"
   ]
  },
  {
   "cell_type": "code",
   "execution_count": 7,
   "metadata": {},
   "outputs": [],
   "source": [
    "df['n_switch'] = df['n_switch'].apply(lambda x: 2 if x =='2+' else x)"
   ]
  },
  {
   "cell_type": "code",
   "execution_count": 8,
   "metadata": {},
   "outputs": [],
   "source": [
    "df['n_switch'] = df['n_switch'].apply(pd.to_numeric)"
   ]
  },
  {
   "cell_type": "markdown",
   "metadata": {},
   "source": [
    "### Fill in NaNs and numericalize"
   ]
  },
  {
   "cell_type": "code",
   "execution_count": 9,
   "metadata": {},
   "outputs": [],
   "source": [
    "df = df.fillna('None') # replaces all NaNs with empty string"
   ]
  },
  {
   "cell_type": "markdown",
   "metadata": {},
   "source": [
    "### Numericalize\n",
    "\n",
    "It's easier to deal with numbers when computationally analyzing data so let's only deal with numbers"
   ]
  },
  {
   "cell_type": "code",
   "execution_count": 10,
   "metadata": {},
   "outputs": [],
   "source": [
    "agree_map = {'Strongly disagree': -2, 'Disagree': -1, 'Neutral': 0, 'Agree':1, 'Strongly Agree': 2, 'Strongly agree': 1.0}\n",
    "def numericalize_agree(x):\n",
    "    try:\n",
    "        return agree_map[x]\n",
    "    except:\n",
    "        print(x)"
   ]
  },
  {
   "cell_type": "code",
   "execution_count": 11,
   "metadata": {},
   "outputs": [
    {
     "data": {
      "text/html": [
       "<div>\n",
       "<style scoped>\n",
       "    .dataframe tbody tr th:only-of-type {\n",
       "        vertical-align: middle;\n",
       "    }\n",
       "\n",
       "    .dataframe tbody tr th {\n",
       "        vertical-align: top;\n",
       "    }\n",
       "\n",
       "    .dataframe thead th {\n",
       "        text-align: right;\n",
       "    }\n",
       "</style>\n",
       "<table border=\"1\" class=\"dataframe\">\n",
       "  <thead>\n",
       "    <tr style=\"text-align: right;\">\n",
       "      <th></th>\n",
       "      <th>alt0</th>\n",
       "      <th>alt1</th>\n",
       "      <th>alt2</th>\n",
       "      <th>stress0</th>\n",
       "      <th>stress1</th>\n",
       "      <th>stress2</th>\n",
       "    </tr>\n",
       "  </thead>\n",
       "  <tbody>\n",
       "    <tr>\n",
       "      <th>0</th>\n",
       "      <td>Disagree</td>\n",
       "      <td>Strongly disagree</td>\n",
       "      <td>Neutral</td>\n",
       "      <td>Strongly Agree</td>\n",
       "      <td>Strongly Agree</td>\n",
       "      <td>Agree</td>\n",
       "    </tr>\n",
       "    <tr>\n",
       "      <th>1</th>\n",
       "      <td>Strongly disagree</td>\n",
       "      <td>Neutral</td>\n",
       "      <td>Disagree</td>\n",
       "      <td>Neutral</td>\n",
       "      <td>Agree</td>\n",
       "      <td>Disagree</td>\n",
       "    </tr>\n",
       "    <tr>\n",
       "      <th>2</th>\n",
       "      <td>Disagree</td>\n",
       "      <td>Strongly disagree</td>\n",
       "      <td>Neutral</td>\n",
       "      <td>Disagree</td>\n",
       "      <td>Disagree</td>\n",
       "      <td>Strongly disagree</td>\n",
       "    </tr>\n",
       "    <tr>\n",
       "      <th>3</th>\n",
       "      <td>Neutral</td>\n",
       "      <td>Disagree</td>\n",
       "      <td>Agree</td>\n",
       "      <td>Disagree</td>\n",
       "      <td>Disagree</td>\n",
       "      <td>Disagree</td>\n",
       "    </tr>\n",
       "    <tr>\n",
       "      <th>4</th>\n",
       "      <td>Neutral</td>\n",
       "      <td>Strongly agree</td>\n",
       "      <td>Agree</td>\n",
       "      <td>Agree</td>\n",
       "      <td>Agree</td>\n",
       "      <td>Disagree</td>\n",
       "    </tr>\n",
       "  </tbody>\n",
       "</table>\n",
       "</div>"
      ],
      "text/plain": [
       "                alt0               alt1      alt2         stress0  \\\n",
       "0           Disagree  Strongly disagree   Neutral  Strongly Agree   \n",
       "1  Strongly disagree            Neutral  Disagree         Neutral   \n",
       "2           Disagree  Strongly disagree   Neutral        Disagree   \n",
       "3            Neutral           Disagree     Agree        Disagree   \n",
       "4            Neutral     Strongly agree     Agree           Agree   \n",
       "\n",
       "          stress1            stress2  \n",
       "0  Strongly Agree              Agree  \n",
       "1           Agree           Disagree  \n",
       "2        Disagree  Strongly disagree  \n",
       "3        Disagree           Disagree  \n",
       "4           Agree           Disagree  "
      ]
     },
     "execution_count": 11,
     "metadata": {},
     "output_type": "execute_result"
    }
   ],
   "source": [
    "col_names = ['alt0', 'alt1', 'alt2', 'stress0', 'stress1', 'stress2']\n",
    "df[col_names].head()"
   ]
  },
  {
   "cell_type": "code",
   "execution_count": 12,
   "metadata": {},
   "outputs": [
    {
     "name": "stdout",
     "output_type": "stream",
     "text": [
      "Strongly agree\n",
      "Strongly agree\n",
      "Strongly agree\n",
      "Strongly agree\n",
      "Strongly agree\n",
      "Strongly agree\n",
      "Strongly agree\n",
      "Strongly agree\n",
      "Strongly agree\n",
      "Strongly agree\n",
      "Strongly agree\n",
      "Strongly agree\n",
      "Strongly agree\n",
      "Strongly agree\n",
      "Strongly agree\n",
      "Strongly agree\n",
      "Strongly agree\n",
      "Strongly agree\n",
      "Strongly agree\n",
      "Strongly agree\n",
      "Strongly agree\n",
      "Strongly agree\n",
      "Strongly agree\n",
      "Strongly agree\n",
      "Strongly agree\n",
      "Strongly agree\n",
      "Strongly agree\n",
      "Strongly agree\n",
      "Strongly agree\n",
      "Strongly agree\n",
      "Strongly agree\n",
      "Strongly agree\n",
      "Strongly agree\n",
      "Strongly agree\n",
      "Strongly agree\n",
      "Strongly agree\n",
      "Strongly agree\n",
      "Strongly agree\n",
      "Strongly agree\n",
      "Strongly agree\n",
      "Strongly agree\n",
      "Strongly agree\n",
      "Strongly agree\n",
      "Strongly agree\n",
      "Strongly agree\n",
      "Strongly agree\n",
      "Strongly agree\n",
      "Strongly agree\n",
      "Strongly agree\n",
      "Strongly agree\n",
      "Strongly agree\n",
      "Strongly agree\n",
      "Strongly agree\n",
      "Strongly agree\n",
      "Strongly agree\n",
      "Strongly agree\n",
      "Strongly agree\n"
     ]
    }
   ],
   "source": [
    "for col in col_names:\n",
    "    df[col] = df[col].apply(numericalize_agree)"
   ]
  },
  {
   "cell_type": "code",
   "execution_count": 13,
   "metadata": {},
   "outputs": [
    {
     "data": {
      "text/html": [
       "<div>\n",
       "<style scoped>\n",
       "    .dataframe tbody tr th:only-of-type {\n",
       "        vertical-align: middle;\n",
       "    }\n",
       "\n",
       "    .dataframe tbody tr th {\n",
       "        vertical-align: top;\n",
       "    }\n",
       "\n",
       "    .dataframe thead th {\n",
       "        text-align: right;\n",
       "    }\n",
       "</style>\n",
       "<table border=\"1\" class=\"dataframe\">\n",
       "  <thead>\n",
       "    <tr style=\"text-align: right;\">\n",
       "      <th></th>\n",
       "      <th>mcps</th>\n",
       "      <th>hsgpa</th>\n",
       "      <th>collegegpa</th>\n",
       "      <th>n_remedial</th>\n",
       "      <th>n_switch</th>\n",
       "      <th>alt0</th>\n",
       "      <th>alt1</th>\n",
       "      <th>alt2</th>\n",
       "      <th>alt3</th>\n",
       "      <th>stress0</th>\n",
       "      <th>stress1</th>\n",
       "      <th>stress2</th>\n",
       "    </tr>\n",
       "  </thead>\n",
       "  <tbody>\n",
       "    <tr>\n",
       "      <th>0</th>\n",
       "      <td>No</td>\n",
       "      <td>4.778</td>\n",
       "      <td>2.908</td>\n",
       "      <td>0</td>\n",
       "      <td>1</td>\n",
       "      <td>-1.0</td>\n",
       "      <td>-2.0</td>\n",
       "      <td>0.0</td>\n",
       "      <td>None</td>\n",
       "      <td>2</td>\n",
       "      <td>2</td>\n",
       "      <td>1</td>\n",
       "    </tr>\n",
       "    <tr>\n",
       "      <th>1</th>\n",
       "      <td>No</td>\n",
       "      <td>4.540</td>\n",
       "      <td>3.870</td>\n",
       "      <td>0</td>\n",
       "      <td>1</td>\n",
       "      <td>-2.0</td>\n",
       "      <td>0.0</td>\n",
       "      <td>-1.0</td>\n",
       "      <td>None</td>\n",
       "      <td>0</td>\n",
       "      <td>1</td>\n",
       "      <td>-1</td>\n",
       "    </tr>\n",
       "    <tr>\n",
       "      <th>2</th>\n",
       "      <td>No</td>\n",
       "      <td>4.200</td>\n",
       "      <td>3.200</td>\n",
       "      <td>0</td>\n",
       "      <td>1</td>\n",
       "      <td>-1.0</td>\n",
       "      <td>-2.0</td>\n",
       "      <td>0.0</td>\n",
       "      <td>None</td>\n",
       "      <td>-1</td>\n",
       "      <td>-1</td>\n",
       "      <td>-2</td>\n",
       "    </tr>\n",
       "    <tr>\n",
       "      <th>3</th>\n",
       "      <td>No</td>\n",
       "      <td>3.700</td>\n",
       "      <td>2.800</td>\n",
       "      <td>0</td>\n",
       "      <td>1</td>\n",
       "      <td>0.0</td>\n",
       "      <td>-1.0</td>\n",
       "      <td>1.0</td>\n",
       "      <td>Vocational</td>\n",
       "      <td>-1</td>\n",
       "      <td>-1</td>\n",
       "      <td>-1</td>\n",
       "    </tr>\n",
       "    <tr>\n",
       "      <th>4</th>\n",
       "      <td>Yes</td>\n",
       "      <td>3.300</td>\n",
       "      <td>3.000</td>\n",
       "      <td>1</td>\n",
       "      <td>0</td>\n",
       "      <td>0.0</td>\n",
       "      <td>NaN</td>\n",
       "      <td>1.0</td>\n",
       "      <td>None</td>\n",
       "      <td>1</td>\n",
       "      <td>1</td>\n",
       "      <td>-1</td>\n",
       "    </tr>\n",
       "  </tbody>\n",
       "</table>\n",
       "</div>"
      ],
      "text/plain": [
       "  mcps  hsgpa  collegegpa  n_remedial  n_switch  alt0  alt1  alt2        alt3  \\\n",
       "0   No  4.778       2.908           0         1  -1.0  -2.0   0.0        None   \n",
       "1   No  4.540       3.870           0         1  -2.0   0.0  -1.0        None   \n",
       "2   No  4.200       3.200           0         1  -1.0  -2.0   0.0        None   \n",
       "3   No  3.700       2.800           0         1   0.0  -1.0   1.0  Vocational   \n",
       "4  Yes  3.300       3.000           1         0   0.0   NaN   1.0        None   \n",
       "\n",
       "   stress0  stress1  stress2  \n",
       "0        2        2        1  \n",
       "1        0        1       -1  \n",
       "2       -1       -1       -2  \n",
       "3       -1       -1       -1  \n",
       "4        1        1       -1  "
      ]
     },
     "execution_count": 13,
     "metadata": {},
     "output_type": "execute_result"
    }
   ],
   "source": [
    "df.head()"
   ]
  },
  {
   "cell_type": "code",
   "execution_count": 14,
   "metadata": {},
   "outputs": [],
   "source": [
    "# df['alt0'] = df['alt0'].apply((lambda x: x*-1))\n",
    "# #Change alt1 statement from \"My high school showed me alternatives to college to My high school DID NOT show me alternatives to college\""
   ]
  },
  {
   "cell_type": "code",
   "execution_count": 15,
   "metadata": {},
   "outputs": [
    {
     "data": {
      "text/html": [
       "<div>\n",
       "<style scoped>\n",
       "    .dataframe tbody tr th:only-of-type {\n",
       "        vertical-align: middle;\n",
       "    }\n",
       "\n",
       "    .dataframe tbody tr th {\n",
       "        vertical-align: top;\n",
       "    }\n",
       "\n",
       "    .dataframe thead th {\n",
       "        text-align: right;\n",
       "    }\n",
       "</style>\n",
       "<table border=\"1\" class=\"dataframe\">\n",
       "  <thead>\n",
       "    <tr style=\"text-align: right;\">\n",
       "      <th></th>\n",
       "      <th>mcps</th>\n",
       "      <th>hsgpa</th>\n",
       "      <th>collegegpa</th>\n",
       "      <th>n_remedial</th>\n",
       "      <th>n_switch</th>\n",
       "      <th>alt0</th>\n",
       "      <th>alt1</th>\n",
       "      <th>alt2</th>\n",
       "      <th>alt3</th>\n",
       "      <th>stress0</th>\n",
       "      <th>stress1</th>\n",
       "      <th>stress2</th>\n",
       "    </tr>\n",
       "  </thead>\n",
       "  <tbody>\n",
       "    <tr>\n",
       "      <th>0</th>\n",
       "      <td>No</td>\n",
       "      <td>4.778</td>\n",
       "      <td>2.908</td>\n",
       "      <td>0</td>\n",
       "      <td>1</td>\n",
       "      <td>0.5</td>\n",
       "      <td>-1.0</td>\n",
       "      <td>0.0</td>\n",
       "      <td>None</td>\n",
       "      <td>1.0</td>\n",
       "      <td>1.0</td>\n",
       "      <td>0.5</td>\n",
       "    </tr>\n",
       "    <tr>\n",
       "      <th>1</th>\n",
       "      <td>No</td>\n",
       "      <td>4.540</td>\n",
       "      <td>3.870</td>\n",
       "      <td>0</td>\n",
       "      <td>1</td>\n",
       "      <td>1.0</td>\n",
       "      <td>0.0</td>\n",
       "      <td>-0.5</td>\n",
       "      <td>None</td>\n",
       "      <td>0.0</td>\n",
       "      <td>0.5</td>\n",
       "      <td>-0.5</td>\n",
       "    </tr>\n",
       "    <tr>\n",
       "      <th>2</th>\n",
       "      <td>No</td>\n",
       "      <td>4.200</td>\n",
       "      <td>3.200</td>\n",
       "      <td>0</td>\n",
       "      <td>1</td>\n",
       "      <td>0.5</td>\n",
       "      <td>-1.0</td>\n",
       "      <td>0.0</td>\n",
       "      <td>None</td>\n",
       "      <td>-0.5</td>\n",
       "      <td>-0.5</td>\n",
       "      <td>-1.0</td>\n",
       "    </tr>\n",
       "    <tr>\n",
       "      <th>3</th>\n",
       "      <td>No</td>\n",
       "      <td>3.700</td>\n",
       "      <td>2.800</td>\n",
       "      <td>0</td>\n",
       "      <td>1</td>\n",
       "      <td>-0.0</td>\n",
       "      <td>-0.5</td>\n",
       "      <td>0.5</td>\n",
       "      <td>Vocational</td>\n",
       "      <td>-0.5</td>\n",
       "      <td>-0.5</td>\n",
       "      <td>-0.5</td>\n",
       "    </tr>\n",
       "    <tr>\n",
       "      <th>4</th>\n",
       "      <td>Yes</td>\n",
       "      <td>3.300</td>\n",
       "      <td>3.000</td>\n",
       "      <td>1</td>\n",
       "      <td>0</td>\n",
       "      <td>-0.0</td>\n",
       "      <td>1.0</td>\n",
       "      <td>0.5</td>\n",
       "      <td>None</td>\n",
       "      <td>0.5</td>\n",
       "      <td>0.5</td>\n",
       "      <td>-0.5</td>\n",
       "    </tr>\n",
       "  </tbody>\n",
       "</table>\n",
       "</div>"
      ],
      "text/plain": [
       "  mcps  hsgpa  collegegpa  n_remedial  n_switch  alt0  alt1  alt2        alt3  \\\n",
       "0   No  4.778       2.908           0         1   0.5  -1.0   0.0        None   \n",
       "1   No  4.540       3.870           0         1   1.0   0.0  -0.5        None   \n",
       "2   No  4.200       3.200           0         1   0.5  -1.0   0.0        None   \n",
       "3   No  3.700       2.800           0         1  -0.0  -0.5   0.5  Vocational   \n",
       "4  Yes  3.300       3.000           1         0  -0.0   1.0   0.5        None   \n",
       "\n",
       "   stress0  stress1  stress2  \n",
       "0      1.0      1.0      0.5  \n",
       "1      0.0      0.5     -0.5  \n",
       "2     -0.5     -0.5     -1.0  \n",
       "3     -0.5     -0.5     -0.5  \n",
       "4      0.5      0.5     -0.5  "
      ]
     },
     "execution_count": 15,
     "metadata": {},
     "output_type": "execute_result"
    }
   ],
   "source": [
    "df.head()"
   ]
  },
  {
   "cell_type": "code",
   "execution_count": 16,
   "metadata": {},
   "outputs": [],
   "source": [
    "df = df[['hsgpa', 'collegegpa', 'n_remedial', 'n_switch', 'alt0', 'alt1', 'alt2', 'stress0', 'stress1', 'stress2']]"
   ]
  },
  {
   "cell_type": "code",
   "execution_count": 17,
   "metadata": {},
   "outputs": [
    {
     "data": {
      "text/plain": [
       "45"
      ]
     },
     "execution_count": 17,
     "metadata": {},
     "output_type": "execute_result"
    }
   ],
   "source": [
    "len(df)"
   ]
  },
  {
   "cell_type": "code",
   "execution_count": null,
   "metadata": {},
   "outputs": [],
   "source": []
  },
  {
   "cell_type": "code",
   "execution_count": 18,
   "metadata": {},
   "outputs": [],
   "source": [
    "df.to_csv('num_394.csv', index=False)"
   ]
  },
  {
   "cell_type": "code",
   "execution_count": 19,
   "metadata": {},
   "outputs": [
    {
     "data": {
      "text/plain": [
       "45"
      ]
     },
     "execution_count": 19,
     "metadata": {},
     "output_type": "execute_result"
    }
   ],
   "source": [
    "t = pd.read_csv('num_394.csv')\n",
    "len(t)"
   ]
  },
  {
   "cell_type": "markdown",
   "metadata": {},
   "source": [
    "# Analysis"
   ]
  },
  {
   "cell_type": "markdown",
   "metadata": {},
   "source": [
    "### Recommended alternatives"
   ]
  },
  {
   "cell_type": "code",
   "execution_count": 20,
   "metadata": {},
   "outputs": [],
   "source": [
    "#df['alt3'].apply(lambda x: x.strip()).unique()"
   ]
  },
  {
   "cell_type": "code",
   "execution_count": 15,
   "metadata": {},
   "outputs": [
    {
     "data": {
      "image/png": "[encoded data removed]",
      "text/plain": [
       "<Figure size 432x288 with 1 Axes>"
      ]
     },
     "metadata": {},
     "output_type": "display_data"
    }
   ],
   "source": [
    "pie = df['alt3'].apply(lambda x: x.strip()).value_counts().plot.pie()"
   ]
  },
  {
   "cell_type": "code",
   "execution_count": 16,
   "metadata": {},
   "outputs": [],
   "source": [
    "fig = pie.get_figure()\n",
    "fig.savefig(\"pie.png\")"
   ]
  },
  {
   "cell_type": "markdown",
   "metadata": {},
   "source": [
    "## Analysis on students who were unsured about their future"
   ]
  },
  {
   "cell_type": "code",
   "execution_count": 23,
   "metadata": {},
   "outputs": [],
   "source": [
    "unsureddf = df.loc[df['alt1'] > 0]"
   ]
  },
  {
   "cell_type": "code",
   "execution_count": 30,
   "metadata": {},
   "outputs": [],
   "source": [
    "rvrs = {v:k for k,v in agree_map.items()}\n",
    "def invrs(x):\n",
    "    try:\n",
    "        return rvrs[x]\n",
    "    except:\n",
    "        print(x)"
   ]
  },
  {
   "cell_type": "code",
   "execution_count": 32,
   "metadata": {},
   "outputs": [
    {
     "data": {
      "image/png": "[encoded data removed]",
      "text/plain": [
       "<Figure size 432x288 with 1 Axes>"
      ]
     },
     "metadata": {},
     "output_type": "display_data"
    }
   ],
   "source": [
    "unsure = unsureddf['alt2'].apply(invrs).value_counts().plot.pie().get_figure()\n",
    "unsure.savefig(\"pie_uninterested.png\")"
   ]
  },
  {
   "cell_type": "markdown",
   "metadata": {},
   "source": [
    "### Students who were unsure vs sure and interest"
   ]
  },
  {
   "cell_type": "code",
   "execution_count": 40,
   "metadata": {},
   "outputs": [],
   "source": [
    "c = df[['alt1', 'alt2']]"
   ]
  },
  {
   "cell_type": "code",
   "execution_count": 45,
   "metadata": {},
   "outputs": [
    {
     "data": {
      "image/png": "[encoded data removed]",
      "text/plain": [
       "<Figure size 432x288 with 1 Axes>"
      ]
     },
     "metadata": {},
     "output_type": "display_data"
    }
   ],
   "source": [
    "## \"I feel uninterested about my \"\n",
    "k = c.loc[c['alt2'] > 0]['alt1'].apply(lambda x: 'No plans' if x > 0 else \"Had plans\").value_counts().plot.pie().get_figure()\n",
    "k.savefig('pie_plannoplan.png')"
   ]
  },
  {
   "cell_type": "markdown",
   "metadata": {},
   "source": [
    "### stress - mental help: unsure vs sure"
   ]
  },
  {
   "cell_type": "code",
   "execution_count": 49,
   "metadata": {},
   "outputs": [],
   "source": [
    "a = df[['alt1', 'stress1', 'stress2']]"
   ]
  },
  {
   "cell_type": "markdown",
   "metadata": {},
   "source": [
    "felt stressed"
   ]
  },
  {
   "cell_type": "code",
   "execution_count": 52,
   "metadata": {},
   "outputs": [
    {
     "data": {
      "image/png": "[encoded data removed]",
      "text/plain": [
       "<Figure size 432x288 with 1 Axes>"
      ]
     },
     "metadata": {},
     "output_type": "display_data"
    }
   ],
   "source": [
    "# sure\n",
    "stress = a.loc[a['stress1'] > 0]['alt1'].apply(lambda x: 'No plans after HS' if x > 0 else \"Had plans after HS\").value_counts().plot.pie().get_figure()\n",
    "stress.savefig('stress.png')"
   ]
  },
  {
   "cell_type": "markdown",
   "metadata": {},
   "source": [
    "Needed mental health help"
   ]
  },
  {
   "cell_type": "code",
   "execution_count": 53,
   "metadata": {},
   "outputs": [
    {
     "data": {
      "image/png": "[encoded data removed]",
      "text/plain": [
       "<Figure size 432x288 with 1 Axes>"
      ]
     },
     "metadata": {},
     "output_type": "display_data"
    }
   ],
   "source": [
    "# sure\n",
    "stress = a.loc[a['stress2'] > 0]['alt1'].apply(lambda x: 'No plans after HS' if x > 0 else \"Had plans after HS\").value_counts().plot.pie().get_figure()\n",
    "stress.savefig('mental.png')"
   ]
  },
  {
   "cell_type": "code",
   "execution_count": 56,
   "metadata": {},
   "outputs": [
    {
     "data": {
      "text/plain": [
       "((33, 12), (18, 12))"
      ]
     },
     "execution_count": 56,
     "metadata": {},
     "output_type": "execute_result"
    }
   ],
   "source": [
    "df.loc[df['stress1'] > 0].shape, df.loc[df['stress2'] > 0].shape"
   ]
  },
  {
   "cell_type": "code",
   "execution_count": 58,
   "metadata": {},
   "outputs": [
    {
     "data": {
      "text/plain": [
       "(10, 12)"
      ]
     },
     "execution_count": 58,
     "metadata": {},
     "output_type": "execute_result"
    }
   ],
   "source": [
    "df.loc[df['alt0'] > 0 ].shape"
   ]
  },
  {
   "cell_type": "code",
   "execution_count": 59,
   "metadata": {},
   "outputs": [],
   "source": [
    "sure = df.loc[df['alt1'] < 0]\n",
    "unsure = df.loc[df['alt1'] > 0 ]"
   ]
  },
  {
   "cell_type": "code",
   "execution_count": 62,
   "metadata": {},
   "outputs": [
    {
     "data": {
      "text/plain": [
       "3.991866666666667"
      ]
     },
     "execution_count": 62,
     "metadata": {},
     "output_type": "execute_result"
    }
   ],
   "source": [
    "sure['hsgpa'].mean()"
   ]
  },
  {
   "cell_type": "code",
   "execution_count": 63,
   "metadata": {},
   "outputs": [
    {
     "data": {
      "text/plain": [
       "3.882413793103448"
      ]
     },
     "execution_count": 63,
     "metadata": {},
     "output_type": "execute_result"
    }
   ],
   "source": [
    "unsure['hsgpa'].mean()"
   ]
  },
  {
   "cell_type": "code",
   "execution_count": 66,
   "metadata": {},
   "outputs": [
    {
     "data": {
      "text/plain": [
       "3.4072"
      ]
     },
     "execution_count": 66,
     "metadata": {},
     "output_type": "execute_result"
    }
   ],
   "source": [
    "sure['collegegpa'].mean()"
   ]
  },
  {
   "cell_type": "code",
   "execution_count": 67,
   "metadata": {},
   "outputs": [
    {
     "data": {
      "text/plain": [
       "3.1034482758620694"
      ]
     },
     "execution_count": 67,
     "metadata": {},
     "output_type": "execute_result"
    }
   ],
   "source": [
    "unsure['collegegpa'].mean()"
   ]
  },
  {
   "cell_type": "markdown",
   "metadata": {},
   "source": [
    "### hs showed me alts"
   ]
  },
  {
   "cell_type": "code",
   "execution_count": 70,
   "metadata": {},
   "outputs": [
    {
     "data": {
      "text/plain": [
       "(10, 12)"
      ]
     },
     "execution_count": 70,
     "metadata": {},
     "output_type": "execute_result"
    }
   ],
   "source": [
    "df.loc[df['alt0'] < 0].shape"
   ]
  },
  {
   "cell_type": "code",
   "execution_count": null,
   "metadata": {},
   "outputs": [],
   "source": []
  }
 ],
 "metadata": {
  "kernelspec": {
   "display_name": "Python deeplearning",
   "language": "python",
   "name": "myenv"
  },
  "language_info": {
   "codemirror_mode": {
    "name": "ipython",
    "version": 3
   },
   "file_extension": ".py",
   "mimetype": "text/x-python",
   "name": "python",
   "nbconvert_exporter": "python",
   "pygments_lexer": "ipython3",
   "version": "3.6.8"
  }
 },
 "nbformat": 4,
 "nbformat_minor": 2
}
